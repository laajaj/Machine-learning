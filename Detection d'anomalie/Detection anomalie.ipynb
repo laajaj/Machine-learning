{
 "cells": [
  {
   "cell_type": "markdown",
   "metadata": {},
   "source": [
    "### Réalisé par : ESSABBAHI Abdelmaoula et LAAJAJ Younes"
   ]
  },
  {
   "cell_type": "markdown",
   "metadata": {},
   "source": [
    "#### 1. Sur la base de données Mouse"
   ]
  },
  {
   "cell_type": "code",
   "execution_count": 1,
   "metadata": {},
   "outputs": [],
   "source": [
    "\n",
    "import numpy as np\n",
    "import pandas as pd\n",
    "import warnings\n",
    "import matplotlib.pyplot as plt\n",
    "warnings.filterwarnings('ignore')\n",
    "from sklearn.preprocessing import StandardScaler\n",
    "from sklearn.ensemble import IsolationForest"
   ]
  },
  {
   "cell_type": "markdown",
   "metadata": {},
   "source": [
    "##### a) Chargement des données et leur analyse"
   ]
  },
  {
   "cell_type": "code",
   "execution_count": 6,
   "metadata": {},
   "outputs": [
    {
     "name": "stdout",
     "output_type": "stream",
     "text": [
      "               X1          X2\n",
      "count  500.000000  500.000000\n",
      "mean     0.505892    0.599706\n",
      "std      0.191763    0.156863\n",
      "min      0.040555    0.138940\n",
      "25%      0.328481    0.469010\n",
      "50%      0.504702    0.629494\n",
      "75%      0.681430    0.735364\n",
      "max      0.916030    0.897028\n"
     ]
    }
   ],
   "source": [
    "\n",
    "points = pd.read_csv('./mouse.txt',sep=' ',names=['X1','X2'])\n",
    "print(points.describe())"
   ]
  },
  {
   "cell_type": "markdown",
   "metadata": {},
   "source": [
    "##### b) Visualisation des données"
   ]
  },
  {
   "cell_type": "code",
   "execution_count": 7,
   "metadata": {},
   "outputs": [
    {
     "data": {
      "image/png": "[encoded data removed]",
      "text/plain": [
       "<Figure size 432x288 with 1 Axes>"
      ]
     },
     "metadata": {
      "needs_background": "light"
     },
     "output_type": "display_data"
    }
   ],
   "source": [
    "\n",
    "rng = np.random.RandomState(42)\n",
    "\n",
    "# Les points sont tracés à l'aide de scatter\n",
    "plt.scatter(points['X1'], points['X2'])\n",
    "labels = ['X1', 'X2']\n",
    "for label, x, y in zip(labels, points['X1'], points['X2']):\n",
    "    plt.annotate(label, xy=(x, y),textcoords='offset points')\n",
    "plt.show()\n"
   ]
  },
  {
   "cell_type": "markdown",
   "metadata": {},
   "source": [
    "##### c) Construction du modèle de prédiction"
   ]
  },
  {
   "cell_type": "code",
   "execution_count": 9,
   "metadata": {},
   "outputs": [],
   "source": [
    "\n",
    "clf = IsolationForest(max_samples=100, random_state=rng)\n",
    "points_n = StandardScaler().fit_transform(points)\n",
    "clf = clf.fit(points_n)\n",
    "outlier = clf.predict(points_n)"
   ]
  },
  {
   "cell_type": "markdown",
   "metadata": {},
   "source": [
    "##### d) Visualiser les données aberrantes "
   ]
  },
  {
   "cell_type": "code",
   "execution_count": 12,
   "metadata": {},
   "outputs": [
    {
     "name": "stdout",
     "output_type": "stream",
     "text": [
      "---------------------\n",
      "(500,)\n",
      "---------------------\n"
     ]
    },
    {
     "data": {
      "image/png": "[encoded data removed]",
      "text/plain": [
       "<Figure size 432x288 with 1 Axes>"
      ]
     },
     "metadata": {
      "needs_background": "light"
     },
     "output_type": "display_data"
    }
   ],
   "source": [
    "\n",
    "#Choisir 1 pour visualiser la bonne figure\n",
    "outliers_ = points[outlier==-1]\n",
    "       \n",
    "plt.scatter(outliers_['X1'], outliers_['X2'])\n",
    "for label, x, y in zip(labels, outliers_['X1'], outliers_['X2']):\n",
    "    plt.annotate(label, xy=(x, y),textcoords='offset points')\n",
    "plt.show()"
   ]
  },
  {
   "cell_type": "markdown",
   "metadata": {},
   "source": [
    "Les données aberrantes sont obtenues depuis les valeurs de la prédiction, les données correspondantes à -1 sont celles aberrantes, et sont par la suite tracées dans une figure. Nous avons décidé de normaliser la base de données, car il s'agit d'une pratique indispensable en Machine Learning.\n",
    "\n"
   ]
  },
  {
   "cell_type": "markdown",
   "metadata": {},
   "source": [
    "#### 2. Sur le jeu de données des cartes de crédits"
   ]
  },
  {
   "cell_type": "code",
   "execution_count": 2,
   "metadata": {},
   "outputs": [],
   "source": [
    "from sklearn.preprocessing import StandardScaler\n",
    "from sklearn.ensemble import IsolationForest\n",
    "import pandas as pd\n",
    "import numpy as np\n",
    "instances = pd.read_csv('./creditcard.csv',sep=',')\n",
    "\n",
    "sc = StandardScaler()\n",
    "slice1 = instances.loc[instances['Class'] == 0]\n",
    "\n",
    "df_random_choice = slice1.sample(n=5000)\n",
    "\n",
    "slice2 = instances.loc[instances['Class'] == 1]\n",
    "\n",
    "prepared_data = df_random_choice.append(slice2, ignore_index=True)\n",
    "\n",
    "prepared_data = prepared_data.drop('Time', 1)\n",
    "\n",
    "X=prepared_data.iloc[:,:-1].values\n",
    "Y=prepared_data.iloc[:,-1].values\n",
    "\n",
    "from sklearn.model_selection import train_test_split\n",
    "x_train, x_test, y_train, y_test = train_test_split(X, Y, test_size=0.5, random_state =0)\n",
    "\n",
    "#Prediction en utilisant Isolation Forest\n",
    "\n",
    "Intance_Isolation_Forest = IsolationForest(contamination=0.0984)\n",
    "sc.fit(x_train)\n",
    "x_train_norm = sc.transform(x_train)\n",
    "x_test_norm = sc.transform(x_train)\n",
    "Intance_Isolation_Forest.fit(x_train_norm,y_train)\n",
    "result=Intance_Isolation_Forest.predict(x_test_norm)\n",
    "result = np.where(result==-1,1,0)\n",
    "\n"
   ]
  },
  {
   "cell_type": "markdown",
   "metadata": {},
   "source": [
    "On construit notre matrice de confusion:\n",
    "\n",
    " 1. Les prédictions en colonnes\n",
    " 2. Le statut des instances dans la base de donnée originale dans les lignes."
   ]
  },
  {
   "cell_type": "code",
   "execution_count": 3,
   "metadata": {},
   "outputs": [
    {
     "name": "stdout",
     "output_type": "stream",
     "text": [
      "        Predit Normal  Predit Fraud\n",
      "Normal           2265           210\n",
      "Fraud             246            25\n",
      "              precision    recall  f1-score   support\n",
      "\n",
      "           0       0.90      0.92      0.91      2475\n",
      "           1       0.11      0.09      0.10       271\n",
      "\n",
      "    accuracy                           0.83      2746\n",
      "   macro avg       0.50      0.50      0.50      2746\n",
      "weighted avg       0.82      0.83      0.83      2746\n",
      "\n"
     ]
    }
   ],
   "source": [
    "from sklearn.metrics import confusion_matrix, classification_report\n",
    "\n",
    "target=prepared_data['Class']\n",
    "\n",
    "conf=pd.DataFrame(confusion_matrix(result,y_test))\n",
    "conf.columns=['Predict Normal','Predict Fraud']\n",
    "conf.index=['Normal','Fraud']\n",
    "print(conf)\n",
    "print(classification_report(result, y_test)) "
   ]
  },
  {
   "cell_type": "markdown",
   "metadata": {},
   "source": [
    "Le Rappel pour le cas de fraude est de 9% ce qui est très faible et permet donc de prédire 91% des fraudes comme des opérations normales. l'accuracy est bonne (83%) mais il va falloir améliorer le rappel(fraud)."
   ]
  }
 ],
 "metadata": {
  "kernelspec": {
   "display_name": "Python 3",
   "language": "python",
   "name": "python3"
  },
  "language_info": {
   "codemirror_mode": {
    "name": "ipython",
    "version": 3
   },
   "file_extension": ".py",
   "mimetype": "text/x-python",
   "name": "python",
   "nbconvert_exporter": "python",
   "pygments_lexer": "ipython3",
   "version": "3.7.4"
  }
 },
 "nbformat": 4,
 "nbformat_minor": 4
}
