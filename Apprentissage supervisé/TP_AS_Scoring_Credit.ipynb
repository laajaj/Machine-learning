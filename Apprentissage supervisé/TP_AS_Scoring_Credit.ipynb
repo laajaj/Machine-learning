{
 "cells": [
  {
   "cell_type": "markdown",
   "metadata": {
    "id": "rbnppwa9QCuw"
   },
   "source": [
    
   ]
  },
  {
   "cell_type": "code",
   "execution_count": null,
   "metadata": {
    "id": "I0NlUtXxQCux"
   },
   "outputs": [],
   "source": [
    "import numpy as np\n",
    "np.set_printoptions(threshold=None,suppress=True)\n",
    "import pandas as pd\n",
    "import warnings\n",
    "import matplotlib.pyplot as plt\n",
    "import seaborn as sns\n",
    "%matplotlib inline\n",
    "warnings.filterwarnings('ignore')\n",
    "\n",
    "from sklearn.naive_bayes import GaussianNB\n",
    "from sklearn.ensemble import AdaBoostClassifier\n",
    "from sklearn.ensemble import GradientBoostingClassifier\n",
    "from sklearn.ensemble import BaggingClassifier\n",
    "from sklearn import svm\n"
   ]
  },
  {
   "cell_type": "markdown",
   "metadata": {
    "id": "FcYCC9TOQCuy"
   },
   "source": [
    "## Partie 1 : Apprentissage supervisé : Feature engineering et Classification"
   ]
  },
  {
   "cell_type": "markdown",
   "metadata": {
    "id": "YsLhzSN0QCuy"
   },
   "source": [
    "#### 1)  Chargement des données et préparation"
   ]
  },
  {
   "cell_type": "code",
   "execution_count": null,
   "metadata": {
    "colab": {
     "base_uri": "https://localhost:8080/",
     "height": 204
    },
    "id": "7oiIsEtXQCuy",
    "outputId": "be3a8d16-49b4-4008-c709-18942f587b69"
   },
   "outputs": [
    {
     "data": {
      "text/html": [
       "<div>\n",
       "<style scoped>\n",
       "    .dataframe tbody tr th:only-of-type {\n",
       "        vertical-align: middle;\n",
       "    }\n",
       "\n",
       "    .dataframe tbody tr th {\n",
       "        vertical-align: top;\n",
       "    }\n",
       "\n",
       "    .dataframe thead th {\n",
       "        text-align: right;\n",
       "    }\n",
       "</style>\n",
       "<table border=\"1\" class=\"dataframe\">\n",
       "  <thead>\n",
       "    <tr style=\"text-align: right;\">\n",
       "      <th></th>\n",
       "      <th>Seniority</th>\n",
       "      <th>Home</th>\n",
       "      <th>Time</th>\n",
       "      <th>Age</th>\n",
       "      <th>Marital</th>\n",
       "      <th>Records</th>\n",
       "      <th>Job</th>\n",
       "      <th>Expenses</th>\n",
       "      <th>Income</th>\n",
       "      <th>Assets</th>\n",
       "      <th>Debt</th>\n",
       "      <th>Amount</th>\n",
       "      <th>Price</th>\n",
       "      <th>Status</th>\n",
       "    </tr>\n",
       "  </thead>\n",
       "  <tbody>\n",
       "    <tr>\n",
       "      <th>0</th>\n",
       "      <td>9.0</td>\n",
       "      <td>1.0</td>\n",
       "      <td>60.0</td>\n",
       "      <td>30.0</td>\n",
       "      <td>0.0</td>\n",
       "      <td>1.0</td>\n",
       "      <td>1.0</td>\n",
       "      <td>73.0</td>\n",
       "      <td>129.0</td>\n",
       "      <td>0.0</td>\n",
       "      <td>0.0</td>\n",
       "      <td>800.0</td>\n",
       "      <td>846.0</td>\n",
       "      <td>1</td>\n",
       "    </tr>\n",
       "    <tr>\n",
       "      <th>1</th>\n",
       "      <td>17.0</td>\n",
       "      <td>1.0</td>\n",
       "      <td>60.0</td>\n",
       "      <td>58.0</td>\n",
       "      <td>1.0</td>\n",
       "      <td>1.0</td>\n",
       "      <td>0.0</td>\n",
       "      <td>48.0</td>\n",
       "      <td>131.0</td>\n",
       "      <td>0.0</td>\n",
       "      <td>0.0</td>\n",
       "      <td>1000.0</td>\n",
       "      <td>1658.0</td>\n",
       "      <td>1</td>\n",
       "    </tr>\n",
       "    <tr>\n",
       "      <th>2</th>\n",
       "      <td>10.0</td>\n",
       "      <td>0.0</td>\n",
       "      <td>36.0</td>\n",
       "      <td>46.0</td>\n",
       "      <td>0.0</td>\n",
       "      <td>2.0</td>\n",
       "      <td>1.0</td>\n",
       "      <td>90.0</td>\n",
       "      <td>200.0</td>\n",
       "      <td>3000.0</td>\n",
       "      <td>0.0</td>\n",
       "      <td>2000.0</td>\n",
       "      <td>2985.0</td>\n",
       "      <td>0</td>\n",
       "    </tr>\n",
       "    <tr>\n",
       "      <th>3</th>\n",
       "      <td>0.0</td>\n",
       "      <td>1.0</td>\n",
       "      <td>60.0</td>\n",
       "      <td>24.0</td>\n",
       "      <td>1.0</td>\n",
       "      <td>1.0</td>\n",
       "      <td>0.0</td>\n",
       "      <td>63.0</td>\n",
       "      <td>182.0</td>\n",
       "      <td>2500.0</td>\n",
       "      <td>0.0</td>\n",
       "      <td>900.0</td>\n",
       "      <td>1325.0</td>\n",
       "      <td>1</td>\n",
       "    </tr>\n",
       "    <tr>\n",
       "      <th>4</th>\n",
       "      <td>0.0</td>\n",
       "      <td>1.0</td>\n",
       "      <td>36.0</td>\n",
       "      <td>26.0</td>\n",
       "      <td>1.0</td>\n",
       "      <td>1.0</td>\n",
       "      <td>0.0</td>\n",
       "      <td>46.0</td>\n",
       "      <td>107.0</td>\n",
       "      <td>0.0</td>\n",
       "      <td>0.0</td>\n",
       "      <td>310.0</td>\n",
       "      <td>910.0</td>\n",
       "      <td>1</td>\n",
       "    </tr>\n",
       "  </tbody>\n",
       "</table>\n",
       "</div>"
      ],
      "text/plain": [
       "   Seniority  Home  Time   Age  Marital  ...  Assets  Debt  Amount   Price  Status\n",
       "0        9.0   1.0  60.0  30.0      0.0  ...     0.0   0.0   800.0   846.0       1\n",
       "1       17.0   1.0  60.0  58.0      1.0  ...     0.0   0.0  1000.0  1658.0       1\n",
       "2       10.0   0.0  36.0  46.0      0.0  ...  3000.0   0.0  2000.0  2985.0       0\n",
       "3        0.0   1.0  60.0  24.0      1.0  ...  2500.0   0.0   900.0  1325.0       1\n",
       "4        0.0   1.0  36.0  26.0      1.0  ...     0.0   0.0   310.0   910.0       1\n",
       "\n",
       "[5 rows x 14 columns]"
      ]
     },
     "execution_count": 49,
     "metadata": {
      "tags": []
     },
     "output_type": "execute_result"
    }
   ],
   "source": [
    "# Importer le jeu de données\n",
    "data = pd.read_csv('./credit_scoring.csv', sep=';')\n",
    "data.head()"
   ]
  },
  {
   "cell_type": "code",
   "execution_count": null,
   "metadata": {
    "id": "Oa2ymfHrQCu1"
   },
   "outputs": [],
   "source": [
    "# Statistique descriptive\n",
    "#data.describe()"
   ]
  },
  {
   "cell_type": "code",
   "execution_count": null,
   "metadata": {
    "id": "RNVncLnQQCu1"
   },
   "outputs": [],
   "source": [
    "# Transformer votre jeu de données issue de pandas qui sera de type Data Frame en numpy Array\n",
    "X = data.iloc[:, 0:13].values\n",
    "Y = data.iloc[:, 13].values"
   ]
  },
  {
   "cell_type": "code",
   "execution_count": null,
   "metadata": {
    "colab": {
     "base_uri": "https://localhost:8080/"
    },
    "id": "gf5hhc4aQCu1",
    "outputId": "920937d9-5a93-49f3-a4c4-4d5916785d34"
   },
   "outputs": [
    {
     "name": "stdout",
     "output_type": "stream",
     "text": [
      "[[   9.    1.   60. ...    0.  800.  846.]\n",
      " [  17.    1.   60. ...    0. 1000. 1658.]\n",
      " [  10.    0.   36. ...    0. 2000. 2985.]\n",
      " ...\n",
      " [   0.    0.   24. ...    0.  500.  963.]\n",
      " [   0.    1.   48. ...    0.  550.  550.]\n",
      " [   5.    0.   60. ... 1000. 1350. 1650.]]\n"
     ]
    }
   ],
   "source": [
    "print(X)"
   ]
  },
  {
   "cell_type": "code",
   "execution_count": null,
   "metadata": {
    "colab": {
     "base_uri": "https://localhost:8080/"
    },
    "id": "MHDzDnWMQCu1",
    "outputId": "73089106-07c2-473d-fd1a-b8adb7a29c89"
   },
   "outputs": [
    {
     "data": {
      "text/plain": [
       "array([1, 1, 0, ..., 0, 1, 1])"
      ]
     },
     "execution_count": 53,
     "metadata": {
      "tags": []
     },
     "output_type": "execute_result"
    }
   ],
   "source": [
    "Y"
   ]
  },
  {
   "cell_type": "code",
   "execution_count": null,
   "metadata": {
    "colab": {
     "base_uri": "https://localhost:8080/"
    },
    "id": "6v2XDTo-QCu1",
    "outputId": "ebb9a75c-fe69-4fbb-c65d-a1771fb115b9"
   },
   "outputs": [
    {
     "data": {
      "text/plain": [
       "(4375, 13)"
      ]
     },
     "execution_count": 54,
     "metadata": {
      "tags": []
     },
     "output_type": "execute_result"
    }
   ],
   "source": [
    "np.shape(X)"
   ]
  },
  {
   "cell_type": "code",
   "execution_count": null,
   "metadata": {
    "colab": {
     "base_uri": "https://localhost:8080/"
    },
    "id": "PxwtoL6VQCu1",
    "outputId": "385e6499-f5ad-4424-ba0b-ef1670f1d6b7"
   },
   "outputs": [
    {
     "name": "stdout",
     "output_type": "stream",
     "text": [
      "le nombre de données ( Nbr de ligne) 4375\n",
      "le nombre de paramètres ( Nbr de feature) 13\n"
     ]
    }
   ],
   "source": [
    "print(\"le nombre de données ( Nbr de ligne)\",X.shape[0])\n",
    "print(\"le nombre de paramètres ( Nbr de feature)\",X.shape[1])\n",
    "#print(\"nombre d’exemples positifs\",Y[Y>0].shape[0])\n",
    "#print(\"nombre d’exemples négatifs\",Y[Y<=0].shape[0])"
   ]
  },
  {
   "cell_type": "code",
   "execution_count": null,
   "metadata": {
    "colab": {
     "base_uri": "https://localhost:8080/"
    },
    "id": "k2K0bjHbQCu1",
    "outputId": "5e85866a-0463-4744-e019-2c43626581d9"
   },
   "outputs": [
    {
     "name": "stdout",
     "output_type": "stream",
     "text": [
      "les valeurs possible du target Status sont [1 0]\n"
     ]
    }
   ],
   "source": [
    "print(\"les valeurs possible du target Status sont\", data.Status.unique())"
   ]
  },
  {
   "cell_type": "code",
   "execution_count": null,
   "metadata": {
    "colab": {
     "base_uri": "https://localhost:8080/",
     "height": 513
    },
    "id": "y5Os4ahhQCu2",
    "outputId": "3f226e71-7efc-4075-ddd1-4989f02b356d"
   },
   "outputs": [
    {
     "data": {
      "image/png": "[encoded data removed]",
      "text/plain": [
       "<Figure size 1296x576 with 2 Axes>"
      ]
     },
     "metadata": {
      "needs_background": "light",
      "tags": []
     },
     "output_type": "display_data"
    }
   ],
   "source": [
    "f,ax=plt.subplots(1,2,figsize=(18,8))\n",
    "data['Status'].value_counts().plot.pie(explode=[0,0.1],autopct='%1.1f%%',ax=ax[0],shadow=True)\n",
    "ax[0].set_title('Status')\n",
    "ax[0].set_ylabel('')\n",
    "sns.countplot('Status',data=data,ax=ax[1])\n",
    "ax[1].set_title('Status')\n",
    "plt.show()"
   ]
  },
  {
   "cell_type": "code",
   "execution_count": null,
   "metadata": {
    "colab": {
     "base_uri": "https://localhost:8080/"
    },
    "id": "vU69J1UXQCu2",
    "outputId": "e5ad9063-d9db-412c-ee04-9f26c66a2a1e"
   },
   "outputs": [
    {
     "name": "stdout",
     "output_type": "stream",
     "text": [
      "[[   2.    1.   48. ...    0. 1100. 1464.]\n",
      " [  15.    0.   24. ...    0.  590. 1793.]\n",
      " [   1.    1.   48. ...    0. 1300. 1533.]\n",
      " ...\n",
      " [  11.    1.   12. ...    0.  300. 1479.]\n",
      " [   0.    1.   48. ...    0.  600. 1452.]\n",
      " [   1.    1.   36. ...    0. 1200. 2186.]]\n",
      "================================================================\n",
      "[[   0.    1.   36. ...    0.  800. 1212.]\n",
      " [   1.    1.   60. ...    0. 1000. 1375.]\n",
      " [   3.    1.   48. ...    0. 1287. 1693.]\n",
      " ...\n",
      " [  12.    0.   48. ...    0. 2380. 4786.]\n",
      " [   1.    0.   36. ...  280.  800.  950.]\n",
      " [   2.    1.   24. ...    0.  450.  994.]]\n",
      "================================================================\n",
      "[1 1 0 ... 1 0 1]\n",
      "================================================================\n",
      "[1 0 1 ... 1 0 1]\n"
     ]
    }
   ],
   "source": [
    "from sklearn.model_selection import train_test_split\n",
    "\n",
    "X_train, X_test, y_train, y_test = train_test_split(X, Y, test_size=0.5, random_state=1)\n",
    "\n",
    "print(X_train)\n",
    "print(\"================================================================\")\n",
    "print(X_test)\n",
    "print(\"================================================================\")\n",
    "print(y_train)\n",
    "print(\"================================================================\")\n",
    "print(y_test)"
   ]
  },
  {
   "cell_type": "markdown",
   "metadata": {
    "id": "CTJPFCRUQCu2"
   },
   "source": [
    "#### 2- Apprentissage et évaluation de modèles"
   ]
  },
  {
   "cell_type": "markdown",
   "metadata": {
    "id": "nMueWpgqceIF"
   },
   "source": [
    "##### a) Le cas d'arbre de décision (CART)"
   ]
  },
  {
   "cell_type": "code",
   "execution_count": null,
   "metadata": {
    "colab": {
     "base_uri": "https://localhost:8080/"
    },
    "id": "jKEZ6MQPQCu2",
    "outputId": "c119da18-4202-4f2d-8e28-682d3c411025"
   },
   "outputs": [
    {
     "name": "stdout",
     "output_type": "stream",
     "text": [
      "[1 1 1 ... 1 1 1]\n"
     ]
    }
   ],
   "source": [
    "\n",
    "\n",
    "from sklearn import tree\n",
    "\n",
    "clf = tree.DecisionTreeClassifier(criterion='gini',random_state=1,max_depth=3)\n",
    "\n",
    "clf = clf.fit(X_train, y_train)\n",
    "\n",
    "prediction_Dtree = clf.predict(X_test)\n",
    "\n",
    "prediction_Dtree\n",
    "\n",
    "print(prediction_Dtree)\n",
    "\n",
    "#tree.plot_tree(clf)\n",
    "\n"
   ]
  },
  {
   "cell_type": "code",
   "execution_count": null,
   "metadata": {
    "colab": {
     "base_uri": "https://localhost:8080/"
    },
    "id": "rexcNXnvQCu2",
    "outputId": "1ca13133-98d5-4427-c7ab-7c8d6212ca4f"
   },
   "outputs": [
    {
     "name": "stdout",
     "output_type": "stream",
     "text": [
      "nombre d’exemples 1 1934\n",
      "nombre d’exemples 0 254\n"
     ]
    }
   ],
   "source": [
    "print(\"nombre d’exemples 1\",prediction_Dtree[prediction_Dtree>0].shape[0])\n",
    "print(\"nombre d’exemples 0\",prediction_Dtree[prediction_Dtree<=0].shape[0])"
   ]
  },
  {
   "cell_type": "code",
   "execution_count": null,
   "metadata": {
    "colab": {
     "base_uri": "https://localhost:8080/"
    },
    "id": "jSKfh6KBQCu2",
    "outputId": "3af5a478-e5e7-4c65-fc5e-c41c85643dd9"
   },
   "outputs": [
    {
     "name": "stdout",
     "output_type": "stream",
     "text": [
      "0.7605118829981719\n",
      "[[ 167  437]\n",
      " [  87 1497]]\n",
      "              precision    recall  f1-score   support\n",
      "\n",
      "     class 0       0.66      0.28      0.39       604\n",
      "     class 1       0.77      0.95      0.85      1584\n",
      "\n",
      "    accuracy                           0.76      2188\n",
      "   macro avg       0.72      0.61      0.62      2188\n",
      "weighted avg       0.74      0.76      0.72      2188\n",
      "\n"
     ]
    }
   ],
   "source": [
    "# Metrics pour l'Arbre de décision\n",
    "from sklearn.metrics import confusion_matrix\n",
    "from sklearn.metrics import accuracy_score\n",
    "from sklearn.metrics import classification_report\n",
    "\n",
    "print(accuracy_score(y_test,prediction_Dtree ))\n",
    "\n",
    "print(confusion_matrix(y_test,prediction_Dtree ))\n",
    "\n",
    "print(classification_report(y_test,prediction_Dtree, target_names=[\"class 0\",\"class 1\"]))\n"
   ]
  },
  {
   "cell_type": "markdown",
   "metadata": {
    "id": "9vuRHoMZQCu2"
   },
   "source": [
    "##### b) KNN"
   ]
  },
  {
   "cell_type": "code",
   "execution_count": null,
   "metadata": {
    "colab": {
     "base_uri": "https://localhost:8080/"
    },
    "id": "Ur-6qQEXQCu2",
    "outputId": "3dab6067-a175-46f1-9e6f-6b906f42b781"
   },
   "outputs": [
    {
     "name": "stdout",
     "output_type": "stream",
     "text": [
      "[1 0 1 ... 1 1 1]\n"
     ]
    }
   ],
   "source": [
    "# La cas de KNN\n",
    "\n",
    "from sklearn.neighbors import KNeighborsClassifier\n",
    "\n",
    "KNN = KNeighborsClassifier(n_neighbors=5)\n",
    "\n",
    "KNN.fit(X_train, y_train)\n",
    "\n",
    "prediction_knn = KNN.predict(X_test)\n",
    "\n",
    "prediction_knn\n",
    "\n",
    "print(prediction_knn)"
   ]
  },
  {
   "cell_type": "code",
   "execution_count": null,
   "metadata": {
    "colab": {
     "base_uri": "https://localhost:8080/"
    },
    "id": "G6fu2anvQCu2",
    "outputId": "da4a6c61-e92a-432b-91f9-212003380ebd"
   },
   "outputs": [
    {
     "name": "stdout",
     "output_type": "stream",
     "text": [
      "nombre d’exemples 1 1812\n",
      "nombre d’exemples 0 376\n"
     ]
    }
   ],
   "source": [
    "print(\"nombre d’exemples 1\",prediction_knn[prediction_knn>0].shape[0])\n",
    "print(\"nombre d’exemples 0\",prediction_knn[prediction_knn<=0].shape[0])"
   ]
  },
  {
   "cell_type": "code",
   "execution_count": null,
   "metadata": {
    "colab": {
     "base_uri": "https://localhost:8080/"
    },
    "id": "UrMoAwHrQCu2",
    "outputId": "9cb376db-b337-4a3b-bd7b-5e1416f7fc5c"
   },
   "outputs": [
    {
     "name": "stdout",
     "output_type": "stream",
     "text": [
      "0.7248628884826326\n",
      "[[ 189  415]\n",
      " [ 187 1397]]\n",
      "              precision    recall  f1-score   support\n",
      "\n",
      "     class 0       0.50      0.31      0.39       604\n",
      "     class 1       0.77      0.88      0.82      1584\n",
      "\n",
      "    accuracy                           0.72      2188\n",
      "   macro avg       0.64      0.60      0.60      2188\n",
      "weighted avg       0.70      0.72      0.70      2188\n",
      "\n"
     ]
    }
   ],
   "source": [
    "# Metrics de KNN\n",
    "from sklearn.metrics import confusion_matrix\n",
    "from sklearn.metrics import accuracy_score\n",
    "from sklearn.metrics import classification_report\n",
    "\n",
    "print(accuracy_score(y_test,prediction_knn ))\n",
    "\n",
    "print(confusion_matrix(y_test,prediction_knn ))\n",
    "\n",
    "print(classification_report(y_test,prediction_knn, target_names=[\"class 0\",\"class 1\"]))"
   ]
  },
  {
   "cell_type": "markdown",
   "metadata": {
    "id": "gP8xcirGQCu3"
   },
   "source": [
    " Comparaison du résultat entre les deux algo Dtree et KNN : \n",
    "\n",
    " Le meilleur résultat est celui obtenu par l’algorithme de ‘arbre CART’ puisqu’il permet une accuracy de 0.76 plus grande que knn et un F-score plus grand que knn. Cette s’est appuyé aussi sur F-score puisqu’il permet d’avoir un compromis entre le Rappel et la Précision\n",
    "\n",
    "\n"
   ]
  },
  {
   "cell_type": "markdown",
   "metadata": {
    "id": "6-cQksTtQCu3"
   },
   "source": [
    "#### 3) Normalisation des variables continues"
   ]
  },
  {
   "cell_type": "code",
   "execution_count": null,
   "metadata": {
    "colab": {
     "base_uri": "https://localhost:8080/"
    },
    "id": "Zcesi6H_QCu3",
    "outputId": "2c661b6a-1e7d-4f99-bdeb-4c6a4872068d"
   },
   "outputs": [
    {
     "name": "stdout",
     "output_type": "stream",
     "text": [
      "les données sont centrées autour des moyennes ( StandadScaler):  [ 0.  0. -0. -0.  0.  0.  0. -0. -0.  0.  0.  0. -0.]\n",
      "les données sont centrées autour des moyennes(MinMaxSclaer) :  [0.16600937 0.53680841 0.74846314 0.38515775 0.27343393 0.15957933\n",
      " 0.36168267 0.14849274 0.13697396 0.02197132 0.01155184 0.24259693\n",
      " 0.15519814]\n",
      "[[-0.73307033  0.92890366  0.10845206 ... -0.25903543  0.11153016\n",
      "  -0.01153308]\n",
      " [ 0.8636448  -1.0765379  -1.53580903 ... -0.25903543 -0.94431355\n",
      "   0.50514188]\n",
      " [-0.85589457  0.92890366  0.10845206 ... -0.25903543  0.52558652\n",
      "   0.09682732]\n",
      " ...\n",
      " [ 0.37234784  0.92890366 -2.35793958 ... -0.25903543 -1.54469527\n",
      "   0.01202353]\n",
      " [-0.97871882  0.92890366  0.10845206 ... -0.25903543 -0.92361073\n",
      "  -0.03037837]\n",
      " [-0.85589457  0.92890366 -0.71367848 ... -0.25903543  0.31855834\n",
      "   1.12232505]]\n",
      "================================================================\n",
      "[[-0.97871882  0.92890366 -0.71367848 ... -0.25903543 -0.50955438\n",
      "  -0.40728412]\n",
      " [-0.85589457  0.92890366  0.93058261 ... -0.25903543 -0.09549802\n",
      "  -0.1513023 ]\n",
      " [-0.61024609  0.92890366  0.10845206 ... -0.25903543  0.49867285\n",
      "   0.34809782]\n",
      " ...\n",
      " [ 0.49517208 -1.0765379   0.10845206 ... -0.25903543  2.76149085\n",
      "   5.20547067]\n",
      " [-0.85589457 -1.0765379  -0.71367848 ... -0.04974715 -0.50955438\n",
      "  -0.81873956]\n",
      " [-0.73307033  0.92890366 -1.53580903 ... -0.25903543 -1.234153\n",
      "  -0.74964017]]\n"
     ]
    }
   ],
   "source": [
    "# Standardize the Data\n",
    "\n",
    "from sklearn.preprocessing import StandardScaler\n",
    "\n",
    "# Standardizing the features\n",
    "\n",
    "# Normalisation des données\n",
    "\n",
    "from sklearn.preprocessing import StandardScaler\n",
    "scaler=StandardScaler( with_mean=True, with_std=True)\n",
    "X_train_norm = scaler.fit(X_train)\n",
    "X_train_norm = scaler.transform(X_train)\n",
    "X_test_norm = scaler.transform(X_test)\n",
    "print(\"les données sont centrées autour des moyennes ( StandadScaler): \" ,np.mean(X_train_norm, axis=0))\n",
    "\n",
    "# Normalisation des données avec minmaxscaler\n",
    "from sklearn.preprocessing import MinMaxScaler\n",
    "scaler_minmax = MinMaxScaler()\n",
    "X_train_norm_2 = scaler_minmax.fit(X_train)\n",
    "X_train_norm_2 = scaler_minmax.transform(X_train)\n",
    "X_test_norm_2 = scaler_minmax.transform(X_test)\n",
    "print(\"les données sont centrées autour des moyennes(MinMaxSclaer) : \" ,np.mean(X_train_norm_2, axis=0))\n",
    "\n",
    "\n",
    "ss= StandardScaler()\n",
    "X_ss = ss.fit_transform(X)\n",
    "\n",
    "print(X_train_norm)\n",
    "print(\"================================================================\")\n",
    "print(X_test_norm)\n"
   ]
  },
  {
   "cell_type": "code",
   "execution_count": null,
   "metadata": {
    "colab": {
     "base_uri": "https://localhost:8080/"
    },
    "id": "cq815z4DQCu3",
    "outputId": "445e12a9-62b5-4434-9bcd-4eda6654bd42"
   },
   "outputs": [
    {
     "name": "stdout",
     "output_type": "stream",
     "text": [
      "Metrics pour Dtree ( cas normalisé):\n",
      "accuracy est de :  0.7605118829981719\n",
      "              precision    recall  f1-score   support\n",
      "\n",
      "           0       0.66      0.28      0.39       604\n",
      "           1       0.77      0.95      0.85      1584\n",
      "\n",
      "    accuracy                           0.76      2188\n",
      "   macro avg       0.72      0.61      0.62      2188\n",
      "weighted avg       0.74      0.76      0.72      2188\n",
      "\n",
      "=======================================================\n",
      "Metrics pour KNN ( cas normalisé):\n",
      "accuracy est de :  0.7527422303473492\n",
      "              precision    recall  f1-score   support\n",
      "\n",
      "           0       0.56      0.47      0.51       604\n",
      "           1       0.81      0.86      0.83      1584\n",
      "\n",
      "    accuracy                           0.75      2188\n",
      "   macro avg       0.69      0.67      0.67      2188\n",
      "weighted avg       0.74      0.75      0.75      2188\n",
      "\n"
     ]
    }
   ],
   "source": [
    "# Arbre CART Avec Normalisation\n",
    "\n",
    "target_names=  [\"0\",\"1\"]\n",
    "\n",
    "clf_norm = tree.DecisionTreeClassifier(random_state=1, criterion='gini', max_depth=3 )\n",
    "clf_norm = clf.fit(X_train_norm, y_train)\n",
    "y_pred_clf_norm=clf_norm.predict(X_test_norm)\n",
    "\n",
    "print(\"Metrics pour Dtree ( cas normalisé):\")\n",
    "print(\"accuracy est de : \" , accuracy_score(y_test, y_pred_clf_norm))\n",
    "print(classification_report(y_test, y_pred_clf_norm, target_names=target_names))\n",
    "\n",
    "\n",
    "print(\"=======================================================\")\n",
    "print(\"Metrics pour KNN ( cas normalisé):\")\n",
    "\n",
    "# KNN Avec Normalisation\n",
    "\n",
    "KNN_norm = KNeighborsClassifier(n_neighbors=5)\n",
    "KNN_norm.fit(X_train_norm, y_train)\n",
    "y_pred_knn_norm=KNN_norm.predict(X_test_norm)\n",
    "print(\"accuracy est de : \" , accuracy_score(y_test, y_pred_knn_norm))\n",
    "print(classification_report(y_test, y_pred_knn_norm, target_names=target_names))"
   ]
  },
  {
   "cell_type": "markdown",
   "metadata": {
    "id": "TJDFZCDvQCu3"
   },
   "source": [
    "Avec la normalisation le résultat de l’algorithme KNN est amélioré par rapport à la question précédente  tandis que les résultats de l’arbre CART sont résultats tel qu’ils étaient."
   ]
  },
  {
   "cell_type": "markdown",
   "metadata": {
    "id": "3sGXn81LQCu3"
   },
   "source": [
    "#### 4 ) Création de nouvelles variables caractéristiques par combinaisons linéaires des variables initiales"
   ]
  },
  {
   "cell_type": "code",
   "execution_count": null,
   "metadata": {
    "colab": {
     "base_uri": "https://localhost:8080/"
    },
    "id": "JEOxB3s3QCu3",
    "outputId": "b4b81756-8af7-4545-824c-51eb8722d924"
   },
   "outputs": [
    {
     "name": "stdout",
     "output_type": "stream",
     "text": [
      "[ 0.38660896 -0.35157084  0.08002648  0.43181491 -0.43062908  0.05439091\n",
      " -0.00882293  0.32959485  0.2789956   0.22820574  0.10681084  0.205118\n",
      "  0.23141817]\n",
      "[-0.22350205  0.10801023  0.48031615 -0.24835472  0.11801537  0.12211983\n",
      " -0.02442772 -0.09096411  0.05843505  0.03006666  0.07114837  0.59762846\n",
      "  0.49167507]\n",
      "[-0.0460134  -0.3316929  -0.25820649  0.09324664  0.2260364  -0.05067273\n",
      "  0.60941217 -0.40787124 -0.12009363  0.40130637  0.12839411  0.06344273\n",
      "  0.1584785 ]\n",
      "[0.19930597 0.14436086 0.1015721 ]\n",
      "0.4452389207193934\n",
      "=======================================================\n",
      "Metrics pour Dtree ( cas normalisé):\n",
      "accuracy est de :  0.7605118829981719\n",
      "              precision    recall  f1-score   support\n",
      "\n",
      "           0       0.66      0.28      0.39       604\n",
      "           1       0.77      0.95      0.85      1584\n",
      "\n",
      "    accuracy                           0.76      2188\n",
      "   macro avg       0.72      0.61      0.62      2188\n",
      "weighted avg       0.74      0.76      0.72      2188\n",
      "\n",
      "=======================================================\n",
      "Metrics pour KNN ( cas normalisé):\n",
      "accuracy est de :  0.7637111517367459\n",
      "              precision    recall  f1-score   support\n",
      "\n",
      "           0       0.59      0.48      0.53       604\n",
      "           1       0.82      0.87      0.84      1584\n",
      "\n",
      "    accuracy                           0.76      2188\n",
      "   macro avg       0.70      0.68      0.69      2188\n",
      "weighted avg       0.75      0.76      0.76      2188\n",
      "\n"
     ]
    }
   ],
   "source": [
    "# PCA\n",
    "from sklearn.decomposition import PCA\n",
    "\n",
    "pca = PCA(n_components=3)\n",
    "principalComponents = pca.fit(X_train_norm)\n",
    "principalComponents_train=principalComponents.fit_transform(X_train_norm)\n",
    "principalComponents_test=principalComponents.fit_transform(X_test_norm)\n",
    "print(pca.components_[0,:])\n",
    "print(pca.components_[1,:])\n",
    "print(pca.components_[2,:])\n",
    "info=pca.explained_variance_ratio_\n",
    "print(info)\n",
    "\n",
    "sum_info=sum(info)\n",
    "\n",
    "print(sum_info)\n",
    "\n",
    "# Concaténation des données\n",
    "X_train_norm_pca=np.concatenate((X_train_norm,principalComponents_train), axis=1)\n",
    "X_test_norm_pca=np.concatenate((X_test_norm,principalComponents_test), axis=1)\n",
    "\n",
    "# calcul de classification\n",
    "print(\"=======================================================\")\n",
    "\n",
    "print(\"Metrics pour Dtree ( cas normalisé):\")\n",
    "# Arbre CART\n",
    "clf = tree.DecisionTreeClassifier(random_state=1, criterion='gini', max_depth=3 )\n",
    "clf = clf.fit(X_train_norm_pca, y_train)\n",
    "y_pred_clf=clf.predict(X_test_norm_pca)\n",
    "print(\"accuracy est de : \" , accuracy_score(y_test, y_pred_clf))\n",
    "print(classification_report(y_test, y_pred_clf, target_names=target_names))\n",
    "\n",
    "print(\"=======================================================\")\n",
    "print(\"Metrics pour KNN ( cas normalisé):\")\n",
    "# KNN\n",
    "KNN = KNeighborsClassifier(n_neighbors=5)\n",
    "KNN.fit(X_train_norm_pca, y_train)\n",
    "y_pred_knn=KNN.predict(X_test_norm_pca)\n",
    "print(\"accuracy est de : \" , accuracy_score(y_test, y_pred_knn))\n",
    "print(classification_report(y_test, y_pred_knn, target_names=target_names))"
   ]
  },
  {
   "cell_type": "markdown",
   "metadata": {
    "id": "XPbWnvxdQCu3"
   },
   "source": [
    " Avec l'ajout des ces paramètres aux paramètres du modèle normalisés, le résultat de l’algorithme KNN est amélioré et devenu meilleur que celui de l’arbre CART en accuracy et F-score."
   ]
  },
  {
   "cell_type": "code",
   "execution_count": null,
   "metadata": {
    "colab": {
     "base_uri": "https://localhost:8080/"
    },
    "id": "S53x0x53QCu3",
    "outputId": "848da300-31cc-417f-efac-e3a7e101e7fe"
   },
   "outputs": [
    {
     "name": "stdout",
     "output_type": "stream",
     "text": [
      "['Seniority' 'Home' 'Time' 'Age' 'Marital' 'Records' 'Job' 'Expenses'\n",
      " 'Income' 'Assets' 'Debt' 'Amount' 'Price' 'pca1' 'pca2' 'pca3']\n",
      "16\n"
     ]
    }
   ],
   "source": [
    "AxesPCA= [\"pca1\",\"pca2\",\"pca3\"]\n",
    "\n",
    "#features =data.columns + AxesPCA\n",
    "\n",
    "features=np.concatenate(((data.columns[:-1]),(AxesPCA)))\n",
    "print(features)\n",
    "print(len(features))"
   ]
  },
  {
   "cell_type": "code",
   "execution_count": null,
   "metadata": {
    "colab": {
     "base_uri": "https://localhost:8080/"
    },
    "id": "gMAQAZ-BQCu3",
    "outputId": "525dffbc-16ea-4a3c-fd81-42d683fade04"
   },
   "outputs": [
    {
     "name": "stdout",
     "output_type": "stream",
     "text": [
      "(2187, 16)\n"
     ]
    }
   ],
   "source": [
    "print(X_train_norm_pca.shape)"
   ]
  },
  {
   "cell_type": "markdown",
   "metadata": {
    "id": "5bIjgwMmViu9"
   },
   "source": [
    "#### 5) Selection des variables"
   ]
  },
  {
   "cell_type": "code",
   "execution_count": null,
   "metadata": {
    "colab": {
     "base_uri": "https://localhost:8080/",
     "height": 363
    },
    "id": "RFv1TYa4QCu3",
    "outputId": "b80ae208-8e30-46c3-c84b-08a6a554ddb2"
   },
   "outputs": [
    {
     "name": "stdout",
     "output_type": "stream",
     "text": [
      "16\n",
      "16\n",
      "['Income' 'Seniority' 'pca2' 'pca3' 'Price' 'Amount' 'pca1' 'Age'\n",
      " 'Records' 'Assets' 'Expenses' 'Job' 'Time' 'Debt' 'Home' 'Marital']\n"
     ]
    },
    {
     "data": {
      "image/png": "[encoded data removed]",
      "text/plain": [
       "<Figure size 432x288 with 1 Axes>"
      ]
     },
     "metadata": {
      "needs_background": "light",
      "tags": []
     },
     "output_type": "display_data"
    }
   ],
   "source": [
    "from sklearn.ensemble import RandomForestClassifier\n",
    "\n",
    "clf = RandomForestClassifier(n_estimators=100)\n",
    "clf.fit(X_train_norm_pca, y_train)\n",
    "importances=clf.feature_importances_\n",
    "\n",
    "std = np.std([tree.feature_importances_ for tree in clf.estimators_],axis=0)\n",
    "\n",
    "sorted_idx = np.argsort(importances)[::-1]\n",
    "\n",
    "print(len(importances))\n",
    "\n",
    "print(len(sorted_idx))\n",
    "\n",
    "print(features[sorted_idx])\n",
    "\n",
    "padding = np.arange(X_train_norm_pca.size/len(X_train_norm_pca)) + 0.5\n",
    "plt.barh(padding, importances[sorted_idx],xerr=std[sorted_idx], align='center')\n",
    "plt.yticks(padding, features[sorted_idx])\n",
    "plt.xlabel(\"Relative Importance\")\n",
    "plt.title(\"Variable Importance\")\n",
    "plt.show()"
   ]
  },
  {
   "cell_type": "code",
   "execution_count": null,
   "metadata": {
    "colab": {
     "base_uri": "https://localhost:8080/",
     "height": 295
    },
    "id": "XuXZ_MefQCu3",
    "outputId": "7930755d-0288-4a1d-b969-f2424ad5eb5e"
   },
   "outputs": [
    {
     "data": {
      "image/png": "[encoded data removed]",
      "text/plain": [
       "<Figure size 432x288 with 1 Axes>"
      ]
     },
     "metadata": {
      "needs_background": "light",
      "tags": []
     },
     "output_type": "display_data"
    }
   ],
   "source": [
    "KNN=KNeighborsClassifier(n_neighbors=5)\n",
    "scores=np.zeros(X_train_norm_pca.shape[1]+1)\n",
    "for f in np.arange(0, X_train_norm_pca.shape[1]+1):\n",
    "    X1_f = X_train_norm_pca[:,sorted_idx[:f+1]]\n",
    "    X2_f = X_test_norm_pca[:,sorted_idx[:f+1]]\n",
    "    KNN.fit(X1_f,y_train)\n",
    "    YKNN=KNN.predict(X2_f)\n",
    "    scores[f]=np.round(accuracy_score(y_test,YKNN),3)\n",
    "plt.plot(scores)\n",
    "plt.xlabel(\"Nombre de Variables\")\n",
    "plt.ylabel(\"Accuracy\")\n",
    "plt.title(\"Evolution de l'accuracy en fonction des variables\")\n",
    "plt.show()"
   ]
  },
  {
   "cell_type": "code",
   "execution_count": null,
   "metadata": {
    "colab": {
     "base_uri": "https://localhost:8080/"
    },
    "id": "ZhOX3oa5QCu3",
    "outputId": "2d13f114-166f-4d73-f6eb-fc1ea150d0c6"
   },
   "outputs": [
    {
     "name": "stdout",
     "output_type": "stream",
     "text": [
      "[0.668 0.713 0.722 0.725 0.738 0.725 0.736 0.74  0.76  0.754 0.758 0.748\n",
      " 0.761 0.762 0.766 0.764 0.764]\n",
      "(17,)\n",
      "accuracy avec 8 variables 0.76\n",
      "accuracy avec 12 variables 0.761\n"
     ]
    }
   ],
   "source": [
    "print((scores))\n",
    "print((scores.shape))\n",
    "print(\"accuracy avec 8 variables\", scores[8])\n",
    "print(\"accuracy avec 12 variables\", scores[12])"
   ]
  },
  {
   "cell_type": "markdown",
   "metadata": {
    "id": "KrEkZPEEQCu3"
   },
   "source": [
    "Puisque la valeur de l'accuracy avec 9 variables est très proche de celle avec 13 variables, ce serait judicieux de choisir un nombre de variables de 9."
   ]
  },
  {
   "cell_type": "code",
   "execution_count": null,
   "metadata": {
    "colab": {
     "base_uri": "https://localhost:8080/"
    },
    "id": "-N4IxemnQCu3",
    "outputId": "1efea13e-bc4c-4bbc-e55c-eed35eaf67ff"
   },
   "outputs": [
    {
     "name": "stdout",
     "output_type": "stream",
     "text": [
      "['Income' 'Seniority' 'pca2' 'pca3' 'Price' 'Amount' 'pca1' 'Age'\n",
      " 'Records' 'Assets' 'Expenses' 'Job' 'Time' 'Debt' 'Home' 'Marital']\n",
      "0.76\n",
      "les paramètres les plus importants sont :  ['Income' 'Seniority' 'pca2' 'pca3' 'Price' 'Amount' 'pca1' 'Age'\n",
      " 'Records']\n",
      "[ 8  0 14 15 12 11 13  3  5  9  7  6  2 10  1  4]\n"
     ]
    }
   ],
   "source": [
    "print(features[sorted_idx])\n",
    "\n",
    "print(scores[8])\n",
    "\n",
    "print('les paramètres les plus importants sont : ', features[sorted_idx][0:9])\n",
    "\n",
    "print(sorted_idx)"
   ]
  },
  {
   "cell_type": "code",
   "execution_count": null,
   "metadata": {
    "colab": {
     "base_uri": "https://localhost:8080/"
    },
    "id": "m4oYzAKeQCu3",
    "outputId": "1a5a9a67-335c-4efc-8fb1-ce4159454c79"
   },
   "outputs": [
    {
     "name": "stdout",
     "output_type": "stream",
     "text": [
      "(2187, 9)\n",
      "(2188, 9)\n"
     ]
    }
   ],
   "source": [
    "nv_X_train_norm= X_train_norm_pca[:,sorted_idx[0:9]]\n",
    "\n",
    "print(nv_X_train_norm.shape)\n",
    "\n",
    "nv_X_test_norm= X_test_norm_pca[:,sorted_idx[0:9]]\n",
    "\n",
    "print(nv_X_test_norm.shape)"
   ]
  },
  {
   "cell_type": "markdown",
   "metadata": {
    "id": "BpLV8SStQCu4"
   },
   "source": [
    "#### 6) Paramétrage des classifieurs"
   ]
  },
  {
   "cell_type": "markdown",
   "metadata": {
    "id": "LjPYhBxQd9JN"
   },
   "source": [
    "##### a) GridSearchCV pour KNN\n"
   ]
  },
  {
   "cell_type": "code",
   "execution_count": null,
   "metadata": {
    "colab": {
     "base_uri": "https://localhost:8080/"
    },
    "id": "btI7TNaNQCu4",
    "outputId": "f2df73a9-c240-4d4a-95ba-9ca9aa271870"
   },
   "outputs": [
    {
     "name": "stdout",
     "output_type": "stream",
     "text": [
      "[1, 2, 3, 4, 5, 6, 7, 8, 9, 10, 11, 12, 13, 14, 15, 16, 17, 18, 19, 20, 21, 22, 23, 24, 25, 26, 27, 28, 29, 30]\n",
      "{'n_neighbors': [1, 2, 3, 4, 5, 6, 7, 8, 9, 10, 11, 12, 13, 14, 15, 16, 17, 18, 19, 20, 21, 22, 23, 24, 25, 26, 27, 28, 29, 30]}\n"
     ]
    }
   ],
   "source": [
    "from sklearn.model_selection import GridSearchCV\n",
    "\n",
    "KNN=KNeighborsClassifier(n_neighbors=5)\n",
    "\n",
    "# define the parameter values that should be searched\n",
    "# for python 2, k_range = range(1, 31)\n",
    "k_range = list(range(1, 31))\n",
    "print(k_range)\n",
    "\n",
    "param_grid = dict(n_neighbors=k_range)\n",
    "\n",
    "\n",
    "print(param_grid)\n",
    "\n",
    "# instantiate the grid\n",
    "grid = GridSearchCV(KNN, param_grid, cv=10, scoring='accuracy')"
   ]
  },
  {
   "cell_type": "code",
   "execution_count": null,
   "metadata": {
    "colab": {
     "base_uri": "https://localhost:8080/"
    },
    "id": "jUMXs_lAQCu4",
    "outputId": "7cec6bf3-b1ee-45cf-dd0d-5f6f2924ef4c"
   },
   "outputs": [
    {
     "data": {
      "text/plain": [
       "GridSearchCV(cv=10, error_score=nan,\n",
       "             estimator=KNeighborsClassifier(algorithm='auto', leaf_size=30,\n",
       "                                            metric='minkowski',\n",
       "                                            metric_params=None, n_jobs=None,\n",
       "                                            n_neighbors=5, p=2,\n",
       "                                            weights='uniform'),\n",
       "             iid='deprecated', n_jobs=None,\n",
       "             param_grid={'n_neighbors': [1, 2, 3, 4, 5, 6, 7, 8, 9, 10, 11, 12,\n",
       "                                         13, 14, 15, 16, 17, 18, 19, 20, 21, 22,\n",
       "                                         23, 24, 25, 26, 27, 28, 29, 30]},\n",
       "             pre_dispatch='2*n_jobs', refit=True, return_train_score=False,\n",
       "             scoring='accuracy', verbose=0)"
      ]
     },
     "execution_count": 76,
     "metadata": {
      "tags": []
     },
     "output_type": "execute_result"
    }
   ],
   "source": [
    "# fit the grid with data\n",
    "grid.fit(nv_X_train_norm, y_train)"
   ]
  },
  {
   "cell_type": "code",
   "execution_count": null,
   "metadata": {
    "colab": {
     "base_uri": "https://localhost:8080/"
    },
    "id": "ytr_Uw4QQCu4",
    "outputId": "9c4b7be7-db60-4e42-d1da-89f69e086057"
   },
   "outputs": [
    {
     "name": "stdout",
     "output_type": "stream",
     "text": [
      "Le meilleur K est :  23\n",
      "KNeighborsClassifier(algorithm='auto', leaf_size=30, metric='minkowski',\n",
      "                     metric_params=None, n_jobs=None, n_neighbors=23, p=2,\n",
      "                     weights='uniform')\n",
      "Le meilleur score est :  0.768160110594445\n"
     ]
    }
   ],
   "source": [
    "# view the complete results (list of named tuples)\n",
    "#print(grid.cv_results_)\n",
    "best_K=grid.best_params_[\"n_neighbors\"]\n",
    "\n",
    "print('Le meilleur K est : ', best_K)\n",
    "print(grid.best_estimator_)\n",
    "print('Le meilleur score est : ',grid.best_score_)"
   ]
  },
  {
   "cell_type": "code",
   "execution_count": null,
   "metadata": {
    "id": "PIFWxqmEQCu4"
   },
   "outputs": [],
   "source": [
    "# Modèle final KNN \n",
    "\n",
    "KNN_final = KNeighborsClassifier(best_K)"
   ]
  },
  {
   "cell_type": "markdown",
   "metadata": {
    "id": "JI23VpD-QCu4"
   },
   "source": [
    "\n",
    "##### b) GridSearchCV pour Dtree\n",
    "\n",
    "\n",
    "\n",
    "\n",
    "\n",
    "\n"
   ]
  },
  {
   "cell_type": "code",
   "execution_count": null,
   "metadata": {
    "colab": {
     "base_uri": "https://localhost:8080/"
    },
    "id": "2hMbrbrmQCu4",
    "outputId": "71f6d71d-70a8-4f94-8d53-2e78926ef2a6"
   },
   "outputs": [
    {
     "data": {
      "text/plain": [
       "GridSearchCV(cv=10, error_score=nan,\n",
       "             estimator=DecisionTreeClassifier(ccp_alpha=0.0, class_weight=None,\n",
       "                                              criterion='gini', max_depth=None,\n",
       "                                              max_features=None,\n",
       "                                              max_leaf_nodes=None,\n",
       "                                              min_impurity_decrease=0.0,\n",
       "                                              min_impurity_split=None,\n",
       "                                              min_samples_leaf=1,\n",
       "                                              min_samples_split=2,\n",
       "                                              min_weight_fraction_leaf=0.0,\n",
       "                                              presort='deprecated',\n",
       "                                              random_state=None,\n",
       "                                              splitter='best'),\n",
       "             iid='deprecated', n_jobs=None,\n",
       "             param_grid={'criterion': ['gini', 'entropy'],\n",
       "                         'max_depth': [4, 5, 6, 7, 8, 9, 10, 11, 12, 15, 20, 30,\n",
       "                                       40, 50, 70, 90, 120, 150]},\n",
       "             pre_dispatch='2*n_jobs', refit=True, return_train_score=False,\n",
       "             scoring=None, verbose=0)"
      ]
     },
     "execution_count": 79,
     "metadata": {
      "tags": []
     },
     "output_type": "execute_result"
    }
   ],
   "source": [
    "# On prend  criterion ( gini ou Entropie) et max_depth ( les niveaux ) \n",
    "\n",
    "\n",
    "tree_para = {'criterion':['gini','entropy'],'max_depth':[4,5,6,7,8,9,10,11,12,15,20,30,40,50,70,90,120,150]}\n",
    "\n",
    "Dtree= tree.DecisionTreeClassifier()\n",
    "grid_Dtree= GridSearchCV(Dtree, tree_para, cv=10)\n",
    "\n",
    "\n",
    "grid_Dtree.fit(nv_X_train_norm, y_train)\n",
    "\n"
   ]
  },
  {
   "cell_type": "code",
   "execution_count": null,
   "metadata": {
    "colab": {
     "base_uri": "https://localhost:8080/"
    },
    "id": "_5alb92yQCu4",
    "outputId": "2d8c766c-b8ff-46ad-e2c4-df92a6dc47d3"
   },
   "outputs": [
    {
     "name": "stdout",
     "output_type": "stream",
     "text": [
      "Les meilleurs paramètres sont :  {'criterion': 'gini', 'max_depth': 4}\n",
      "DecisionTreeClassifier(ccp_alpha=0.0, class_weight=None, criterion='gini',\n",
      "                       max_depth=4, max_features=None, max_leaf_nodes=None,\n",
      "                       min_impurity_decrease=0.0, min_impurity_split=None,\n",
      "                       min_samples_leaf=1, min_samples_split=2,\n",
      "                       min_weight_fraction_leaf=0.0, presort='deprecated',\n",
      "                       random_state=None, splitter='best')\n",
      "Le meilleur score est :  0.7558292488793934\n"
     ]
    }
   ],
   "source": [
    "\n",
    "Dtree_Para = grid_Dtree.best_params_\n",
    "print('Les meilleurs paramètres sont : ',Dtree_Para)\n",
    "print(grid_Dtree.best_estimator_)\n",
    "print('Le meilleur score est : ',grid_Dtree.best_score_)"
   ]
  },
  {
   "cell_type": "code",
   "execution_count": null,
   "metadata": {
    "colab": {
     "base_uri": "https://localhost:8080/"
    },
    "id": "SgwyGdx8QCu4",
    "outputId": "7fc57d98-2c28-49f1-ae8d-51a3dfe39661"
   },
   "outputs": [
    {
     "name": "stdout",
     "output_type": "stream",
     "text": [
      "gini\n"
     ]
    }
   ],
   "source": [
    "print(Dtree_Para[\"criterion\"])"
   ]
  },
  {
   "cell_type": "code",
   "execution_count": null,
   "metadata": {
    "id": "Mib6cgyLQCu4"
   },
   "outputs": [],
   "source": [
    "# Modèle final Arbre de décision\n",
    "\n",
    "Dtree_final = tree.DecisionTreeClassifier(criterion=Dtree_Para[\"criterion\"], max_depth= Dtree_Para[\"max_depth\"])"
   ]
  },
  {
   "cell_type": "markdown",
   "metadata": {
    "id": "MmAIDxQwQCu4"
   },
   "source": [
    "#### 7) Création d’un pipeline"
   ]
  },
  {
   "cell_type": "code",
   "execution_count": null,
   "metadata": {
    "id": "7nilC_-9QCu4"
   },
   "outputs": [],
   "source": [
    "from sklearn.pipeline import Pipeline, make_pipeline"
   ]
  },
  {
   "cell_type": "code",
   "execution_count": null,
   "metadata": {
    "colab": {
     "base_uri": "https://localhost:8080/"
    },
    "id": "W6t-1s70QCu4",
    "outputId": "a3a123bb-b455-4976-f317-9fee0687fdb5"
   },
   "outputs": [
    {
     "name": "stdout",
     "output_type": "stream",
     "text": [
      "Pipeline(memory=None,\n",
      "         steps=[('standardscaler',\n",
      "                 StandardScaler(copy=True, with_mean=True, with_std=True)),\n",
      "                ('pca',\n",
      "                 PCA(copy=True, iterated_power='auto', n_components=3,\n",
      "                     random_state=None, svd_solver='auto', tol=0.0,\n",
      "                     whiten=False)),\n",
      "                ('kneighborsclassifier',\n",
      "                 KNeighborsClassifier(algorithm='auto', leaf_size=30,\n",
      "                                      metric='minkowski', metric_params=None,\n",
      "                                      n_jobs=None, n_neighbors=23, p=2,\n",
      "                                      weights='uniform'))],\n",
      "         verbose=False)\n"
     ]
    }
   ],
   "source": [
    "pipe= make_pipeline(scaler, pca, KNN_final )\n",
    "\n",
    "print(pipe)\n"
   ]
  },
  {
   "cell_type": "code",
   "execution_count": null,
   "metadata": {
    "id": "dzoxDZhoQCu4"
   },
   "outputs": [],
   "source": [
    "model= pipe.fit(nv_X_train_norm, y_train)\n",
    "\n",
    "y_pred = model.predict(nv_X_test_norm)\n",
    "\n",
    "#print(y_pred)\n"
   ]
  },
  {
   "cell_type": "code",
   "execution_count": null,
   "metadata": {
    "colab": {
     "base_uri": "https://localhost:8080/"
    },
    "id": "sdueGnhOQCu4",
    "outputId": "ebeba7c8-22ad-420d-bde9-355a0f956e2f"
   },
   "outputs": [
    {
     "name": "stdout",
     "output_type": "stream",
     "text": [
      "1954\n",
      "234\n"
     ]
    }
   ],
   "source": [
    "un=[]\n",
    "zero=[]\n",
    "\n",
    "for i in y_pred:\n",
    "    if i==1:\n",
    "        un.append(1)\n",
    "    else:\n",
    "        zero.append(1)\n",
    "        \n",
    "print(len(un))    \n",
    "\n",
    "print(len(zero))"
   ]
  },
  {
   "cell_type": "markdown",
   "metadata": {
    "id": "AnMGsqS8QCu4"
   },
   "source": [
    "Sauvegarderle modéle en local avec Pickle\n",
    " "
   ]
  },
  {
   "cell_type": "code",
   "execution_count": null,
   "metadata": {
    "colab": {
     "base_uri": "https://localhost:8080/"
    },
    "id": "9vOpRrE9QCu4",
    "outputId": "0517c1bc-b4ff-475a-b2ba-734d4f02588f"
   },
   "outputs": [
    {
     "name": "stdout",
     "output_type": "stream",
     "text": [
      "[1 1 1 ... 1 1 1]\n"
     ]
    }
   ],
   "source": [
    "import pickle\n",
    "\n",
    "pickle.dump(model,open('model.pkl','wb'))\n",
    "\n",
    "model = pickle.load(open('model.pkl','rb'))\n",
    "\n",
    "prediction = model.predict(nv_X_test_norm)\n",
    "\n",
    "print(prediction)\n"
   ]
  },
  {
   "cell_type": "markdown",
   "metadata": {
    "id": "x4IbQPiZQCu5"
   },
   "source": [
    "#### 8) Comparaison de plusieurs algorithmes d’apprentissage"
   ]
  },
  {
   "cell_type": "code",
   "execution_count": null,
   "metadata": {
    "id": "ZzLhdQh1QCu5"
   },
   "outputs": [],
   "source": [
    "from sklearn.ensemble import RandomForestClassifier\n",
    "from sklearn.neighbors import KNeighborsClassifier\n",
    "from sklearn.naive_bayes import GaussianNB\n",
    "from sklearn.cluster import KMeans, MiniBatchKMeans \n",
    "from sklearn.mixture import GaussianMixture \n",
    "from sklearn.tree import DecisionTreeClassifier #cart, id3 and decision stump (1 lvl tree)\n",
    "from sklearn.ensemble import AdaBoostClassifier, BaggingClassifier, RandomForestClassifier #bagging, RF and adaboost\n",
    "from sklearn.preprocessing import StandardScaler\n",
    "from sklearn.neural_network import MLPClassifier\n",
    "\n",
    "\n",
    "from sklearn import tree\n",
    "from sklearn.model_selection import KFold\n",
    "from sklearn.model_selection import cross_val_score\n",
    "from sklearn.metrics import roc_auc_score, precision_score, accuracy_score, cohen_kappa_score, make_scorer\n",
    "import time\n",
    "\n",
    "auc_scorer=make_scorer(roc_auc_score)\n",
    "acc_scorer=make_scorer(accuracy_score)\n",
    "precision_scorer=make_scorer(precision_score)\n",
    "kappa_scorer=make_scorer(cohen_kappa_score)\n",
    "\n",
    "clfs = {\n",
    "    #NaiveBayesSimple\n",
    "    'NBayes': GaussianNB(),\n",
    "    #Un arbre CART\n",
    "    'CART': tree.DecisionTreeClassifier(),\n",
    "    #Un arbre ID3\n",
    "    'ID3': DecisionTreeClassifier(criterion = \"entropy\"),\n",
    "    #MultilayerPerceptron à deux couches de tailles respectives 20 et 10\n",
    "    #'MLP': MLPClassifier(hidden_layer_sizes=(20,10),max_iter=1000),\n",
    "    #Random Forest avec 50 classifieurs\n",
    "    'RF': RandomForestClassifier(n_estimators=50),\n",
    "    #k-plus-proches-voisins avec k=5\n",
    "    'KNN': KNeighborsClassifier(n_neighbors=5),\n",
    "    #Bagging avec 50 classifieurs\n",
    "    'Bagging': BaggingClassifier(DecisionTreeClassifier(max_depth=1), n_estimators=50),\n",
    "    #AdaBoost avec 50 classifieurs \n",
    "    'Adaboost_depth1':AdaBoostClassifier(DecisionTreeClassifier(max_depth=1), n_estimators=50),\n",
    "    'Adaboost_depth2':AdaBoostClassifier(DecisionTreeClassifier(max_depth=2), n_estimators=50)\n",
    "}\n",
    "\n",
    "\n",
    "def run_classifiers(clfs, X, Y):\n",
    "    kf = KFold(n_splits=10, shuffle=True, random_state=0)\n",
    "    for i in clfs:\n",
    "        init_time = time.time()\n",
    "        clf = clfs[i]\n",
    "        clf = clf.fit(X, Y)\n",
    "        cv_acc = cross_val_score(clf, X, Y, cv=kf)\n",
    "        kappa_scores=cross_val_score(estimator=clf,X=X,y=Y,cv=kf,scoring=auc_scorer)\n",
    "        auc_scores= cross_val_score(estimator=clf,X=X,y=Y,cv=kf,scoring=kappa_scorer)\n",
    "        algo_time = time.time() - init_time\n",
    "        print(\"Accuracy for {0} is: {1:.3f} +/- {2:.3f}\".format(i, np.mean(cv_acc), np.std(cv_acc)))\n",
    "        print(\"kappa for {0} is: {1:.3f} +/- {2:.3f}\".format(i, np.mean(kappa_scores), np.std(kappa_scores)))\n",
    "        print(\"AUC for {0} is: {1:.3f} +/- {2:.3f}\".format(i, np.mean(auc_scores), np.std(auc_scores)))        \n",
    "        print(\"execution time is: %s seconds\" % algo_time)\n",
    "        print('\\n')"
   ]
  },
  {
   "cell_type": "code",
   "execution_count": null,
   "metadata": {
    "colab": {
     "base_uri": "https://localhost:8080/"
    },
    "id": "--8mO1IxQCu5",
    "outputId": "80f10b6f-5dfe-451b-f4e3-74fa7ed12ff6"
   },
   "outputs": [
    {
     "name": "stdout",
     "output_type": "stream",
     "text": [
      "Accuracy for NBayes is: 0.738 +/- 0.030\n",
      "AUC for NBayes is: 0.321 +/- 0.064\n",
      "execution time is: 0.044432640075683594 seconds\n",
      "\n",
      "\n",
      "Accuracy for CART is: 0.701 +/- 0.018\n",
      "AUC for CART is: 0.249 +/- 0.079\n",
      "execution time is: 0.32703447341918945 seconds\n",
      "\n",
      "\n",
      "Accuracy for ID3 is: 0.695 +/- 0.027\n",
      "AUC for ID3 is: 0.266 +/- 0.056\n",
      "execution time is: 0.5485708713531494 seconds\n",
      "\n",
      "\n",
      "Accuracy for RF is: 0.764 +/- 0.025\n",
      "AUC for RF is: 0.346 +/- 0.077\n",
      "execution time is: 4.565350532531738 seconds\n",
      "\n",
      "\n",
      "Accuracy for KNN is: 0.745 +/- 0.028\n",
      "AUC for KNN is: 0.310 +/- 0.071\n",
      "execution time is: 0.3336310386657715 seconds\n",
      "\n",
      "\n",
      "Accuracy for Bagging is: 0.723 +/- 0.035\n",
      "AUC for Bagging is: 0.036 +/- 0.067\n",
      "execution time is: 2.6568315029144287 seconds\n",
      "\n",
      "\n",
      "Accuracy for Adaboost_depth1 is: 0.773 +/- 0.028\n",
      "AUC for Adaboost_depth1 is: 0.382 +/- 0.056\n",
      "execution time is: 3.6736998558044434 seconds\n",
      "\n",
      "\n",
      "Accuracy for Adaboost_depth2 is: 0.753 +/- 0.030\n",
      "AUC for Adaboost_depth2 is: 0.350 +/- 0.061\n",
      "execution time is: 5.24407434463501 seconds\n",
      "\n",
      "\n"
     ]
    }
   ],
   "source": [
    "alpha=run_classifiers(clfs, nv_X_train_norm, y_train)"
   ]
  },
  {
   "cell_type": "markdown",
   "metadata": {
    "id": "flJ7ErOLkELV"
   },
   "source": [
    "\n",
    "Le meilleur modèle est 'Adaboost_depth1' qui permet de classifier les données avec un taux de 77.3% (une Accuracy de 77.3%) et est le plus à permettre de ditinguer entre les vrai positifs et les faux positifs (AUC de 0.382). Ce modèle se base sur des méthodes ensemblistes pour le calcul du modèle.\n",
    "On peut constater que parmi tous ces modèles, MLP prenait beaucoup de temps en exécution et cela est du au grand nombre de couches qu'il contient à l'intérieur.\n"
   ]
  },
  {
   "cell_type": "markdown",
   "metadata": {
    "id": "PEJBkc53QCu5"
   },
   "source": [
    "## Partie 2 : Apprentissage supervisé : Données hétérogènes    "
   ]
  },
  {
   "cell_type": "markdown",
   "metadata": {
    "id": "O7-cqhuhelZy"
   },
   "source": [
    " #### 1) Question 1"
   ]
  },
  {
   "cell_type": "markdown",
   "metadata": {
    "id": "2q3uEr32fTLN"
   },
   "source": [
    "##### a) Chargement des données et préparation :"
   ]
  },
  {
   "cell_type": "markdown",
   "metadata": {
    "id": "7Lm4fLQwfYhP"
   },
   "source": [
    "Importer les données"
   ]
  },
  {
   "cell_type": "code",
   "execution_count": null,
   "metadata": {
    "colab": {
     "base_uri": "https://localhost:8080/",
     "height": 419
    },
    "id": "bn7hbXMbQCu5",
    "outputId": "e8a8853a-83b9-4d75-bdda-58242e5cc20f"
   },
   "outputs": [
    {
     "data": {
      "text/html": [
       "<div>\n",
       "<style scoped>\n",
       "    .dataframe tbody tr th:only-of-type {\n",
       "        vertical-align: middle;\n",
       "    }\n",
       "\n",
       "    .dataframe tbody tr th {\n",
       "        vertical-align: top;\n",
       "    }\n",
       "\n",
       "    .dataframe thead th {\n",
       "        text-align: right;\n",
       "    }\n",
       "</style>\n",
       "<table border=\"1\" class=\"dataframe\">\n",
       "  <thead>\n",
       "    <tr style=\"text-align: right;\">\n",
       "      <th></th>\n",
       "      <th>0</th>\n",
       "      <th>1</th>\n",
       "      <th>2</th>\n",
       "      <th>3</th>\n",
       "      <th>4</th>\n",
       "      <th>5</th>\n",
       "      <th>6</th>\n",
       "      <th>7</th>\n",
       "      <th>8</th>\n",
       "      <th>9</th>\n",
       "      <th>10</th>\n",
       "      <th>11</th>\n",
       "      <th>12</th>\n",
       "      <th>13</th>\n",
       "      <th>14</th>\n",
       "      <th>15</th>\n",
       "    </tr>\n",
       "  </thead>\n",
       "  <tbody>\n",
       "    <tr>\n",
       "      <th>0</th>\n",
       "      <td>b</td>\n",
       "      <td>30.83</td>\n",
       "      <td>0.000</td>\n",
       "      <td>u</td>\n",
       "      <td>g</td>\n",
       "      <td>w</td>\n",
       "      <td>v</td>\n",
       "      <td>1.25</td>\n",
       "      <td>t</td>\n",
       "      <td>t</td>\n",
       "      <td>1</td>\n",
       "      <td>f</td>\n",
       "      <td>g</td>\n",
       "      <td>202</td>\n",
       "      <td>0</td>\n",
       "      <td>+</td>\n",
       "    </tr>\n",
       "    <tr>\n",
       "      <th>1</th>\n",
       "      <td>a</td>\n",
       "      <td>58.67</td>\n",
       "      <td>4.460</td>\n",
       "      <td>u</td>\n",
       "      <td>g</td>\n",
       "      <td>q</td>\n",
       "      <td>h</td>\n",
       "      <td>3.04</td>\n",
       "      <td>t</td>\n",
       "      <td>t</td>\n",
       "      <td>6</td>\n",
       "      <td>f</td>\n",
       "      <td>g</td>\n",
       "      <td>43</td>\n",
       "      <td>560</td>\n",
       "      <td>+</td>\n",
       "    </tr>\n",
       "    <tr>\n",
       "      <th>2</th>\n",
       "      <td>a</td>\n",
       "      <td>24.50</td>\n",
       "      <td>0.500</td>\n",
       "      <td>u</td>\n",
       "      <td>g</td>\n",
       "      <td>q</td>\n",
       "      <td>h</td>\n",
       "      <td>1.50</td>\n",
       "      <td>t</td>\n",
       "      <td>f</td>\n",
       "      <td>0</td>\n",
       "      <td>f</td>\n",
       "      <td>g</td>\n",
       "      <td>280</td>\n",
       "      <td>824</td>\n",
       "      <td>+</td>\n",
       "    </tr>\n",
       "    <tr>\n",
       "      <th>3</th>\n",
       "      <td>b</td>\n",
       "      <td>27.83</td>\n",
       "      <td>1.540</td>\n",
       "      <td>u</td>\n",
       "      <td>g</td>\n",
       "      <td>w</td>\n",
       "      <td>v</td>\n",
       "      <td>3.75</td>\n",
       "      <td>t</td>\n",
       "      <td>t</td>\n",
       "      <td>5</td>\n",
       "      <td>t</td>\n",
       "      <td>g</td>\n",
       "      <td>100</td>\n",
       "      <td>3</td>\n",
       "      <td>+</td>\n",
       "    </tr>\n",
       "    <tr>\n",
       "      <th>4</th>\n",
       "      <td>b</td>\n",
       "      <td>20.17</td>\n",
       "      <td>5.625</td>\n",
       "      <td>u</td>\n",
       "      <td>g</td>\n",
       "      <td>w</td>\n",
       "      <td>v</td>\n",
       "      <td>1.71</td>\n",
       "      <td>t</td>\n",
       "      <td>f</td>\n",
       "      <td>0</td>\n",
       "      <td>f</td>\n",
       "      <td>s</td>\n",
       "      <td>120</td>\n",
       "      <td>0</td>\n",
       "      <td>+</td>\n",
       "    </tr>\n",
       "    <tr>\n",
       "      <th>...</th>\n",
       "      <td>...</td>\n",
       "      <td>...</td>\n",
       "      <td>...</td>\n",
       "      <td>...</td>\n",
       "      <td>...</td>\n",
       "      <td>...</td>\n",
       "      <td>...</td>\n",
       "      <td>...</td>\n",
       "      <td>...</td>\n",
       "      <td>...</td>\n",
       "      <td>...</td>\n",
       "      <td>...</td>\n",
       "      <td>...</td>\n",
       "      <td>...</td>\n",
       "      <td>...</td>\n",
       "      <td>...</td>\n",
       "    </tr>\n",
       "    <tr>\n",
       "      <th>683</th>\n",
       "      <td>b</td>\n",
       "      <td>21.08</td>\n",
       "      <td>10.085</td>\n",
       "      <td>y</td>\n",
       "      <td>p</td>\n",
       "      <td>e</td>\n",
       "      <td>h</td>\n",
       "      <td>1.25</td>\n",
       "      <td>f</td>\n",
       "      <td>f</td>\n",
       "      <td>0</td>\n",
       "      <td>f</td>\n",
       "      <td>g</td>\n",
       "      <td>260</td>\n",
       "      <td>0</td>\n",
       "      <td>-</td>\n",
       "    </tr>\n",
       "    <tr>\n",
       "      <th>684</th>\n",
       "      <td>a</td>\n",
       "      <td>22.67</td>\n",
       "      <td>0.750</td>\n",
       "      <td>u</td>\n",
       "      <td>g</td>\n",
       "      <td>c</td>\n",
       "      <td>v</td>\n",
       "      <td>2.00</td>\n",
       "      <td>f</td>\n",
       "      <td>t</td>\n",
       "      <td>2</td>\n",
       "      <td>t</td>\n",
       "      <td>g</td>\n",
       "      <td>200</td>\n",
       "      <td>394</td>\n",
       "      <td>-</td>\n",
       "    </tr>\n",
       "    <tr>\n",
       "      <th>685</th>\n",
       "      <td>a</td>\n",
       "      <td>25.25</td>\n",
       "      <td>13.500</td>\n",
       "      <td>y</td>\n",
       "      <td>p</td>\n",
       "      <td>ff</td>\n",
       "      <td>ff</td>\n",
       "      <td>2.00</td>\n",
       "      <td>f</td>\n",
       "      <td>t</td>\n",
       "      <td>1</td>\n",
       "      <td>t</td>\n",
       "      <td>g</td>\n",
       "      <td>200</td>\n",
       "      <td>1</td>\n",
       "      <td>-</td>\n",
       "    </tr>\n",
       "    <tr>\n",
       "      <th>686</th>\n",
       "      <td>b</td>\n",
       "      <td>17.92</td>\n",
       "      <td>0.205</td>\n",
       "      <td>u</td>\n",
       "      <td>g</td>\n",
       "      <td>aa</td>\n",
       "      <td>v</td>\n",
       "      <td>0.04</td>\n",
       "      <td>f</td>\n",
       "      <td>f</td>\n",
       "      <td>0</td>\n",
       "      <td>f</td>\n",
       "      <td>g</td>\n",
       "      <td>280</td>\n",
       "      <td>750</td>\n",
       "      <td>-</td>\n",
       "    </tr>\n",
       "    <tr>\n",
       "      <th>687</th>\n",
       "      <td>b</td>\n",
       "      <td>35.00</td>\n",
       "      <td>3.375</td>\n",
       "      <td>u</td>\n",
       "      <td>g</td>\n",
       "      <td>c</td>\n",
       "      <td>h</td>\n",
       "      <td>8.29</td>\n",
       "      <td>f</td>\n",
       "      <td>f</td>\n",
       "      <td>0</td>\n",
       "      <td>t</td>\n",
       "      <td>g</td>\n",
       "      <td>0</td>\n",
       "      <td>0</td>\n",
       "      <td>-</td>\n",
       "    </tr>\n",
       "  </tbody>\n",
       "</table>\n",
       "<p>688 rows × 16 columns</p>\n",
       "</div>"
      ],
      "text/plain": [
       "    0      1       2  3  4   5   6     7  8  9   10 11 12   13   14 15\n",
       "0    b  30.83   0.000  u  g   w   v  1.25  t  t   1  f  g  202    0  +\n",
       "1    a  58.67   4.460  u  g   q   h  3.04  t  t   6  f  g   43  560  +\n",
       "2    a  24.50   0.500  u  g   q   h  1.50  t  f   0  f  g  280  824  +\n",
       "3    b  27.83   1.540  u  g   w   v  3.75  t  t   5  t  g  100    3  +\n",
       "4    b  20.17   5.625  u  g   w   v  1.71  t  f   0  f  s  120    0  +\n",
       "..  ..    ...     ... .. ..  ..  ..   ... .. ..  .. .. ..  ...  ... ..\n",
       "683  b  21.08  10.085  y  p   e   h  1.25  f  f   0  f  g  260    0  -\n",
       "684  a  22.67   0.750  u  g   c   v  2.00  f  t   2  t  g  200  394  -\n",
       "685  a  25.25  13.500  y  p  ff  ff  2.00  f  t   1  t  g  200    1  -\n",
       "686  b  17.92   0.205  u  g  aa   v  0.04  f  f   0  f  g  280  750  -\n",
       "687  b  35.00   3.375  u  g   c   h  8.29  f  f   0  t  g    0    0  -\n",
       "\n",
       "[688 rows x 16 columns]"
      ]
     },
     "execution_count": 96,
     "metadata": {
      "tags": []
     },
     "output_type": "execute_result"
    }
   ],
   "source": [
    "\n",
    "   \n",
    "df = pd.read_csv('./credit.data', delimiter=\"\\t\",header=None)\n",
    "\n",
    "data = df.values\n",
    "X, Y = data[:,:-1], data[:, -1]\n",
    "\n",
    "df\n"
   ]
  },
  {
   "cell_type": "markdown",
   "metadata": {
    "id": "zk3TX1PseqmE"
   },
   "source": [
    "remplacer ? par nan"
   ]
  },
  {
   "cell_type": "code",
   "execution_count": null,
   "metadata": {
    "colab": {
     "base_uri": "https://localhost:8080/"
    },
    "id": "A9LZ_zwoQCu5",
    "outputId": "fc66448a-1914-46c1-8f52-fb23b61123db"
   },
   "outputs": [
    {
     "name": "stdout",
     "output_type": "stream",
     "text": [
      "Element exists in Dataframe\n"
     ]
    }
   ],
   "source": [
    "if \"?\" in df.values:\n",
    "    print('Element exists in Dataframe')"
   ]
  },
  {
   "cell_type": "code",
   "execution_count": null,
   "metadata": {
    "id": "fv5IRSO0QCu5"
   },
   "outputs": [],
   "source": [
    "# \n",
    "df[df.values==\"?\"]=np.nan"
   ]
  },
  {
   "cell_type": "code",
   "execution_count": null,
   "metadata": {
    "colab": {
     "base_uri": "https://localhost:8080/"
    },
    "id": "eUCxGxPJQCu5",
    "outputId": "f62ece5a-bb59-46e4-bb38-c20de2d5a7e0"
   },
   "outputs": [
    {
     "data": {
      "text/plain": [
       "0      object\n",
       "1      object\n",
       "2     float64\n",
       "3      object\n",
       "4      object\n",
       "5      object\n",
       "6      object\n",
       "7     float64\n",
       "8      object\n",
       "9      object\n",
       "10      int64\n",
       "11     object\n",
       "12     object\n",
       "13     object\n",
       "14      int64\n",
       "15     object\n",
       "dtype: object"
      ]
     },
     "execution_count": 99,
     "metadata": {
      "tags": []
     },
     "output_type": "execute_result"
    }
   ],
   "source": [
    "df.dtypes"
   ]
  },
  {
   "cell_type": "code",
   "execution_count": null,
   "metadata": {
    "colab": {
     "base_uri": "https://localhost:8080/",
     "height": 336
    },
    "id": "aA1suvJYQCu5",
    "outputId": "46c36766-7dc9-4264-ac7c-509f8d0970de"
   },
   "outputs": [
    {
     "name": "stdout",
     "output_type": "stream",
     "text": [
      "la taille de l'ensemble X_n est (666, 6)\n",
      "====================================================================================================\n",
      "(array([299.,   0.,   0.,   0.,   0.,   0.,   0.,   0.,   0., 367.]), array([0. , 0.1, 0.2, 0.3, 0.4, 0.5, 0.6, 0.7, 0.8, 0.9, 1. ]), <a list of 10 Patch objects>)\n"
     ]
    },
    {
     "data": {
      "image/png": "[encoded data removed]",
      "text/plain": [
       "<Figure size 432x288 with 1 Axes>"
      ]
     },
     "metadata": {
      "needs_background": "light",
      "tags": []
     },
     "output_type": "display_data"
    }
   ],
   "source": [
    "# sous ensemble \n",
    "ens1 = df[[1,2,7,10,13,14,15]]\n",
    "ens1 = ens1.dropna()\n",
    "ens1 = ens1.values\n",
    "X_n,Y_n=ens1[:,:-1],ens1[:,-1]\n",
    "X_n= X_n.astype(float)\n",
    "print(\"la taille de l'ensemble X_n est\", X_n.shape)\n",
    "\n",
    "print(\"=\"*100)\n",
    "import matplotlib.pyplot as plt\n",
    "print(plt.hist(Y_n))"
   ]
  },
  {
   "cell_type": "markdown",
   "metadata": {
    "id": "MhNpuBLZevJL"
   },
   "source": [
    "Binariser la target (+ =1 et - = 0)"
   ]
  },
  {
   "cell_type": "code",
   "execution_count": null,
   "metadata": {
    "colab": {
     "base_uri": "https://localhost:8080/"
    },
    "id": "RARj1ZpxQCu5",
    "outputId": "f343a2dc-d1f5-48c5-be87-6f8dd6a09654"
   },
   "outputs": [
    {
     "name": "stdout",
     "output_type": "stream",
     "text": [
      "[1 1 1 1 1 1 1 1 1 1 1 1 1 1 1 1 1 1 1 1 1 1 1 1 1 1 1 1 1 1 1 1 1 1 1 1 1\n",
      " 1 1 1 1 1 1 1 1 1 1 1 1 1 1 1 1 1 1 1 1 1 1 1 1 1 1 1 1 1 1 1 1 1 0 0 0 0\n",
      " 0 0 0 0 0 0 0 0 0 0 0 0 0 0 0 0 0 0 0 0 0 0 0 0 0 0 0 0 0 0 0 0 0 0 0 0 0\n",
      " 0 1 1 1 1 1 1 1 1 1 1 1 1 1 1 1 1 1 1 1 1 1 1 1 1 1 1 1 1 1 1 1 1 1 1 1 1\n",
      " 1 1 1 1 1 1 1 1 1 1 1 1 1 1 1 1 1 1 1 1 1 1 1 1 1 1 1 1 1 1 1 1 1 1 1 1 1\n",
      " 1 1 1 1 1 1 1 1 1 1 1 1 1 1 1 1 1 1 1 1 1 1 1 1 1 1 1 1 1 1 1 1 1 1 1 1 1\n",
      " 1 1 1 1 1 1 1 1 1 1 1 1 1 1 1 1 1 1 1 1 1 1 1 1 0 0 0 0 0 0 0 0 0 0 0 0 0\n",
      " 1 1 0 0 0 0 0 0 0 0 0 0 0 0 0 0 0 0 0 0 0 0 0 0 0 0 0 0 0 0 0 0 0 0 0 0 0\n",
      " 0 0 0 0 0 0 0 0 0 1 1 1 1 1 1 1 0 0 0 0 0 0 0 0 0 0 0 0 0 0 0 0 0 0 0 0 0\n",
      " 0 0 0 0 0 0 0 0 0 0 0 0 0 0 0 0 0 0 0 0 0 0 0 0 0 0 0 0 0 0 0 0 0 0 0 0 0\n",
      " 0 0 0 0 0 0 0 0 0 0 0 0 0 0 0 0 0 0 0 0 0 0 0 0 0 0 0 0 0 0 0 0 0 0 0 0 0\n",
      " 0 0 0 0 0 0 0 0 0 0 0 0 0 0 0 0 0 0 0 0 0 0 0 0 0 0 0 0 0 0 0 0 0 0 0 0 0\n",
      " 0 0 0 0 0 0 0 0 0 0 0 0 0 0 0 0 0 0 0 0 0 0 0 0 0 0 0 0 1 1 1 1 1 1 1 1 1\n",
      " 1 1 1 1 1 1 1 1 1 1 1 1 1 1 1 1 1 1 1 1 1 1 0 0 0 0 0 0 0 0 0 0 0 0 0 0 0\n",
      " 0 0 0 0 0 0 0 0 0 1 1 1 1 1 1 1 1 1 1 1 1 1 1 1 1 1 1 1 1 1 1 1 1 1 1 1 1\n",
      " 1 1 1 1 1 1 1 1 1 1 1 1 1 1 1 1 1 1 1 1 1 1 1 1 1 0 0 0 0 0 1 0 0 0 0 0 0\n",
      " 0 0 0 0 0 0 0 1 0 0 0 0 0 0 0 0 0 0 0 0 0 0 0 0 0 0 0 0 0 0 0 0 0 0 0 0 0\n",
      " 0 0 0 0 0 0 0 0 0 0 0 0 0 0 0 0 0 0 0 0 0 0 0 0 0 0 0 0 0 0 0 0 0 0 0 0 0]\n"
     ]
    }
   ],
   "source": [
    "# \n",
    "Y_n = np.where(Y_n=='+',1,0)\n",
    "print(Y_n)"
   ]
  },
  {
   "cell_type": "markdown",
   "metadata": {
    "id": "DbZnzFRLexXt"
   },
   "source": [
    "##### b) Normalisation des variables continues"
   ]
  },
  {
   "cell_type": "code",
   "execution_count": null,
   "metadata": {
    "colab": {
     "base_uri": "https://localhost:8080/"
    },
    "id": "mZZCmQB4QCu5",
    "outputId": "220d88f8-e209-4a97-d78b-5b14bf1ecd89"
   },
   "outputs": [
    {
     "name": "stdout",
     "output_type": "stream",
     "text": [
      "Accuracy for NBayes is: 0.716 +/- 0.050\n",
      "AUC for NBayes is: 0.398 +/- 0.077\n",
      "execution time is: 0.04342937469482422 seconds\n",
      "\n",
      "\n",
      "Accuracy for CART is: 0.721 +/- 0.047\n",
      "AUC for CART is: 0.429 +/- 0.068\n",
      "execution time is: 0.0757753849029541 seconds\n",
      "\n",
      "\n",
      "Accuracy for ID3 is: 0.730 +/- 0.046\n",
      "AUC for ID3 is: 0.444 +/- 0.076\n",
      "execution time is: 0.10292696952819824 seconds\n",
      "\n",
      "\n",
      "Accuracy for RF is: 0.779 +/- 0.046\n",
      "AUC for RF is: 0.539 +/- 0.116\n",
      "execution time is: 1.9884867668151855 seconds\n",
      "\n",
      "\n",
      "Accuracy for KNN is: 0.745 +/- 0.062\n",
      "AUC for KNN is: 0.474 +/- 0.117\n",
      "execution time is: 0.08982110023498535 seconds\n",
      "\n",
      "\n",
      "Accuracy for Bagging is: 0.743 +/- 0.064\n",
      "AUC for Bagging is: 0.461 +/- 0.110\n",
      "execution time is: 1.651055097579956 seconds\n",
      "\n",
      "\n",
      "Accuracy for Adaboost_depth1 is: 0.770 +/- 0.063\n",
      "AUC for Adaboost_depth1 is: 0.532 +/- 0.120\n",
      "execution time is: 1.8998143672943115 seconds\n",
      "\n",
      "\n",
      "Accuracy for Adaboost_depth2 is: 0.743 +/- 0.054\n",
      "AUC for Adaboost_depth2 is: 0.472 +/- 0.113\n",
      "execution time is: 2.150606393814087 seconds\n",
      "\n",
      "\n"
     ]
    }
   ],
   "source": [
    "# \n",
    "\n",
    "from sklearn.preprocessing import StandardScaler\n",
    "X_scale = StandardScaler().fit_transform(X_n)\n",
    "\n",
    "run_classifiers(clfs, X_scale, Y_n)"
   ]
  },
  {
   "cell_type": "markdown",
   "metadata": {
    "id": "PRdMC_RqQCu5"
   },
   "source": [
    "On peut remarquer une améliration des mesures AUC et accuracy par rapport au jeu de données précedent. Cela peut être expliqué par un très grand nombre de données et peu de paramètres. On remarque aussi que la méthode MLP ( MultilayerPerceptron ) prend considérablement plus de temps que les autres modèles prédictifs vue le grand nombre d'itérations executées. Le meilleur modèle est 'RF' qui a une accuracy et un AUC légèrement supérieur à celles de 'Adaboost_depth1'."
   ]
  },
  {
   "cell_type": "markdown",
   "metadata": {
    "id": "re8T0FsSQCu6"
   },
   "source": [
    "### 2) Question 2\n",
    "Nous allons maintenant considérer la totalité de la base originale comportant les 15 variables continues et catégorielles mais aussi les données manquantes"
   ]
  },
  {
   "cell_type": "markdown",
   "metadata": {
    "id": "vi-jSpNEfuop"
   },
   "source": [
    "##### a) Traitement de données manquantes"
   ]
  },
  {
   "cell_type": "code",
   "execution_count": null,
   "metadata": {
    "id": "SGDcJ2GmQCu6"
   },
   "outputs": [],
   "source": [
    "# Traitement de données manquantes\n",
    "\n",
    "data=df.values\n",
    "X, Y= data[:, :-1], data[:, -1]\n",
    "\n",
    "# Variables numériques\n",
    "data_num = df[[1,2,7,10,13,14,15]]\n",
    "data_num = data_num.values\n",
    "X_n, Y_n = data_num[:, :-1], data_num[:, -1]\n",
    "\n",
    "# Variables catégoriques\n",
    "data_cat = df[[0,3,4,5,6,8,9,11,12]]\n",
    "\n",
    "data_cat = data_cat.values\n",
    "\n"
   ]
  },
  {
   "cell_type": "code",
   "execution_count": null,
   "metadata": {
    "id": "M0Gr4cyaQCu6"
   },
   "outputs": [],
   "source": [
    "\n",
    "from sklearn.impute import SimpleImputer\n",
    "\n",
    "## Imputer pour des variables catégoriques :\n",
    "X_cat = np.copy(data_cat)\n"
   ]
  },
  {
   "cell_type": "code",
   "execution_count": null,
   "metadata": {
    "id": "O5VnnwK4QCu6"
   },
   "outputs": [],
   "source": [
    "\n",
    "\n",
    "for col_id in range(0,9):\n",
    "    unique_val, val_idx = np.unique(list(X_cat[:, col_id]), return_inverse=True)\n",
    "    X_cat[:, col_id] = val_idx\n",
    "    \n",
    "imp_cat = SimpleImputer(missing_values=0, strategy='most_frequent')\n",
    "X_cat[:, range(5)] = imp_cat.fit_transform(X_cat[:, range(5)])\n",
    "\n",
    "\n",
    "## Imputer pour des variables numériques :\n",
    "X_num = np.copy(X_n)\n",
    "X_num[X_num == '?'] = np.nan\n",
    "X_num = X_num.astype(float)\n",
    "imp_num = SimpleImputer(missing_values=np.nan, strategy='mean')\n",
    "X_num = imp_num.fit_transform(X_num)\n",
    "\n"
   ]
  },
  {
   "cell_type": "markdown",
   "metadata": {
    "id": "iMVXWWPnqEsO"
   },
   "source": [
    "Ici on a remplacé les valeurs manquantes qu'on a dans notre jeu de données, en imputant la valeur la plus fréquente pour les variables catégoriques et en imputant la moyenne pour les variables munériques."
   ]
  },
  {
   "cell_type": "markdown",
   "metadata": {
    "id": "c1h2YP65gxN4"
   },
   "source": [
    "##### b) Traitement de variables catégorielles :"
   ]
  },
  {
   "cell_type": "code",
   "execution_count": null,
   "metadata": {
    "colab": {
     "base_uri": "https://localhost:8080/"
    },
    "id": "wE5CzOK3QCu6",
    "outputId": "3979302e-1577-4877-c148-0580467a09b4"
   },
   "outputs": [
    {
     "name": "stdout",
     "output_type": "stream",
     "text": [
      "Accuracy for NBayes is: 0.769 +/- 0.054\n",
      "AUC for NBayes is: 0.507 +/- 0.129\n",
      "execution time is: 0.03599429130554199 seconds\n",
      "\n",
      "\n",
      "Accuracy for CART is: 0.815 +/- 0.033\n",
      "AUC for CART is: 0.619 +/- 0.085\n",
      "execution time is: 0.09268903732299805 seconds\n",
      "\n",
      "\n",
      "Accuracy for ID3 is: 0.827 +/- 0.040\n",
      "AUC for ID3 is: 0.632 +/- 0.073\n",
      "execution time is: 0.11666607856750488 seconds\n",
      "\n",
      "\n",
      "Accuracy for RF is: 0.884 +/- 0.038\n",
      "AUC for RF is: 0.769 +/- 0.071\n",
      "execution time is: 1.90120267868042 seconds\n",
      "\n",
      "\n",
      "Accuracy for KNN is: 0.849 +/- 0.039\n",
      "AUC for KNN is: 0.690 +/- 0.080\n",
      "execution time is: 0.1833641529083252 seconds\n",
      "\n",
      "\n",
      "Accuracy for Bagging is: 0.856 +/- 0.044\n",
      "AUC for Bagging is: 0.714 +/- 0.086\n",
      "execution time is: 1.9548373222351074 seconds\n",
      "\n",
      "\n",
      "Accuracy for Adaboost_depth1 is: 0.855 +/- 0.035\n",
      "AUC for Adaboost_depth1 is: 0.706 +/- 0.072\n",
      "execution time is: 2.2122726440429688 seconds\n",
      "\n",
      "\n",
      "Accuracy for Adaboost_depth2 is: 0.821 +/- 0.026\n",
      "AUC for Adaboost_depth2 is: 0.633 +/- 0.052\n",
      "execution time is: 2.6472275257110596 seconds\n",
      "\n",
      "\n"
     ]
    }
   ],
   "source": [
    "from sklearn.preprocessing import OneHotEncoder\n",
    "X_cat_bin = OneHotEncoder().fit_transform(X_cat).toarray()\n",
    "\n"
   ]
  },
  {
   "cell_type": "markdown",
   "metadata": {
    "id": "UPe8DbldhnGZ"
   },
   "source": [
    "##### c) Construction de notre jeu de données"
   ]
  },
  {
   "cell_type": "code",
   "execution_count": null,
   "metadata": {
    "id": "HkSCIt1ChreW"
   },
   "outputs": [],
   "source": [
    "X_num = StandardScaler().fit_transform(X_num)\n",
    "s = np.concatenate((X_num, X_cat_bin), axis=1) # Concatenation des nouvelles données\n",
    "# Execution de la fonction \"run_classifiers\" sur nos nouvelles données\n",
    "run_classifiers(clfs,s,np.where(Y_n==\"+\",1,0))"
   ]
  },
  {
   "cell_type": "markdown",
   "metadata": {
    "id": "J4UwjcDHQCu6"
   },
   "source": [
    "On remarque une nette amélioration dans les mesures cela peut être expliqué par la diminution des valeurs manquantes et la normalisation de notre ensemble de données."
   ]
  },
  {
   "cell_type": "markdown",
   "metadata": {
    "id": "CPGhrvynQCu6"
   },
   "source": [
    "## Partie 3 : Apprentissage supervisé sur des données textuelles : Feature engineering et Classification"
   ]
  },
  {
   "cell_type": "code",
   "execution_count": null,
   "metadata": {
    "colab": {
     "base_uri": "https://localhost:8080/",
     "height": 419
    },
    "id": "noSnI0XKQCu6",
    "outputId": "daf924a4-211c-46f7-9751-b2100e77e84b"
   },
   "outputs": [
    {
     "data": {
      "text/html": [
       "<div>\n",
       "<style scoped>\n",
       "    .dataframe tbody tr th:only-of-type {\n",
       "        vertical-align: middle;\n",
       "    }\n",
       "\n",
       "    .dataframe tbody tr th {\n",
       "        vertical-align: top;\n",
       "    }\n",
       "\n",
       "    .dataframe thead th {\n",
       "        text-align: right;\n",
       "    }\n",
       "</style>\n",
       "<table border=\"1\" class=\"dataframe\">\n",
       "  <thead>\n",
       "    <tr style=\"text-align: right;\">\n",
       "      <th></th>\n",
       "      <th>labels</th>\n",
       "      <th>message</th>\n",
       "    </tr>\n",
       "  </thead>\n",
       "  <tbody>\n",
       "    <tr>\n",
       "      <th>0</th>\n",
       "      <td>ham</td>\n",
       "      <td>Go until jurong point, crazy.. Available only ...</td>\n",
       "    </tr>\n",
       "    <tr>\n",
       "      <th>1</th>\n",
       "      <td>ham</td>\n",
       "      <td>Ok lar... Joking wif u oni...</td>\n",
       "    </tr>\n",
       "    <tr>\n",
       "      <th>2</th>\n",
       "      <td>spam</td>\n",
       "      <td>Free entry in 2 a wkly comp to win FA Cup fina...</td>\n",
       "    </tr>\n",
       "    <tr>\n",
       "      <th>3</th>\n",
       "      <td>ham</td>\n",
       "      <td>U dun say so early hor... U c already then say...</td>\n",
       "    </tr>\n",
       "    <tr>\n",
       "      <th>4</th>\n",
       "      <td>ham</td>\n",
       "      <td>Nah I don't think he goes to usf, he lives aro...</td>\n",
       "    </tr>\n",
       "    <tr>\n",
       "      <th>...</th>\n",
       "      <td>...</td>\n",
       "      <td>...</td>\n",
       "    </tr>\n",
       "    <tr>\n",
       "      <th>5567</th>\n",
       "      <td>spam</td>\n",
       "      <td>This is the 2nd time we have tried 2 contact u...</td>\n",
       "    </tr>\n",
       "    <tr>\n",
       "      <th>5568</th>\n",
       "      <td>ham</td>\n",
       "      <td>Will ü b going to esplanade fr home?</td>\n",
       "    </tr>\n",
       "    <tr>\n",
       "      <th>5569</th>\n",
       "      <td>ham</td>\n",
       "      <td>Pity, * was in mood for that. So...any other s...</td>\n",
       "    </tr>\n",
       "    <tr>\n",
       "      <th>5570</th>\n",
       "      <td>ham</td>\n",
       "      <td>The guy did some bitching but I acted like i'd...</td>\n",
       "    </tr>\n",
       "    <tr>\n",
       "      <th>5571</th>\n",
       "      <td>ham</td>\n",
       "      <td>Rofl. Its true to its name</td>\n",
       "    </tr>\n",
       "  </tbody>\n",
       "</table>\n",
       "<p>5572 rows × 2 columns</p>\n",
       "</div>"
      ],
      "text/plain": [
       "     labels                                            message\n",
       "0       ham  Go until jurong point, crazy.. Available only ...\n",
       "1       ham                      Ok lar... Joking wif u oni...\n",
       "2      spam  Free entry in 2 a wkly comp to win FA Cup fina...\n",
       "3       ham  U dun say so early hor... U c already then say...\n",
       "4       ham  Nah I don't think he goes to usf, he lives aro...\n",
       "...     ...                                                ...\n",
       "5567   spam  This is the 2nd time we have tried 2 contact u...\n",
       "5568    ham               Will ü b going to esplanade fr home?\n",
       "5569    ham  Pity, * was in mood for that. So...any other s...\n",
       "5570    ham  The guy did some bitching but I acted like i'd...\n",
       "5571    ham                         Rofl. Its true to its name\n",
       "\n",
       "[5572 rows x 2 columns]"
      ]
     },
     "execution_count": 109,
     "metadata": {
      "tags": []
     },
     "output_type": "execute_result"
    }
   ],
   "source": [
    "import pandas as pd\n",
    "messages = pd.read_csv('./SMSSpamCollection.data',sep='\\t',names=['labels','message'])\n",
    "messages\n"
   ]
  },
  {
   "cell_type": "markdown",
   "metadata": {
    "id": "DwGelnVniHdk"
   },
   "source": [
    "##### a) Methode CountVectorize"
   ]
  },
  {
   "cell_type": "code",
   "execution_count": null,
   "metadata": {
    "colab": {
     "base_uri": "https://localhost:8080/"
    },
    "id": "Uq4CZyEsQCu6",
    "outputId": "443e231d-e27a-4ff5-dcd3-260168f319eb"
   },
   "outputs": [
    {
     "name": "stdout",
     "output_type": "stream",
     "text": [
      "Shape of Sparse Matrix:  (5572, 300)\n",
      "Amount of Non-Zero occurences:  19727\n",
      "sparsity: 1.18%\n",
      "\n",
      "\n"
     ]
    }
   ],
   "source": [
    "\n",
    "\n",
    "from sklearn.feature_extraction.text import CountVectorizer\n",
    "import time \n",
    "import numpy as np\n",
    "\n",
    "vectorizer = CountVectorizer(max_features=300,stop_words='english')\n",
    "\n",
    "target = messages.values[:,0]\n",
    "messages1 = messages.values[:,1]\n",
    "\n",
    "X = vectorizer.fit_transform(messages1)\n",
    "\n",
    "#print(vectorizer.get_feature_names())\n",
    "print ('Shape of Sparse Matrix: ', X.shape)\n",
    "print ('Amount of Non-Zero occurences: ', X.nnz)\n",
    "print ('sparsity: %.2f%%' % (100.0 * X.nnz /(X.shape[0] * X.shape[1])))\n",
    "print ('\\n')\n"
   ]
  },
  {
   "cell_type": "markdown",
   "metadata": {
    "id": "Br0FlK1diOS-"
   },
   "source": [
    "##### b) Tf–idf term weighting"
   ]
  },
  {
   "cell_type": "code",
   "execution_count": null,
   "metadata": {
    "colab": {
     "base_uri": "https://localhost:8080/"
    },
    "id": "UCJg8VwdQCu6",
    "outputId": "c07e8d4d-19ff-445a-cf51-e928c3383576"
   },
   "outputs": [
    {
     "name": "stdout",
     "output_type": "stream",
     "text": [
      "Accuracy for NBayes is: 0.689 +/- 0.012\n",
      "AUC for NBayes is: 0.308 +/- 0.017\n",
      "execution time is: 0.5814378261566162 seconds\n",
      "\n",
      "\n",
      "Accuracy for CART is: 0.967 +/- 0.010\n",
      "AUC for CART is: 0.854 +/- 0.033\n",
      "execution time is: 13.786987781524658 seconds\n",
      "\n",
      "\n",
      "Accuracy for ID3 is: 0.966 +/- 0.004\n",
      "AUC for ID3 is: 0.847 +/- 0.029\n",
      "execution time is: 13.564327955245972 seconds\n",
      "\n",
      "\n",
      "Accuracy for RF is: 0.978 +/- 0.005\n",
      "AUC for RF is: 0.899 +/- 0.033\n",
      "execution time is: 27.83549737930298 seconds\n",
      "\n",
      "\n",
      "Accuracy for KNN is: 0.950 +/- 0.008\n",
      "AUC for KNN is: 0.748 +/- 0.033\n",
      "execution time is: 34.62908387184143 seconds\n",
      "\n",
      "\n",
      "Accuracy for Bagging is: 0.891 +/- 0.012\n",
      "AUC for Bagging is: 0.294 +/- 0.056\n",
      "execution time is: 17.350903272628784 seconds\n",
      "\n",
      "\n",
      "Accuracy for Adaboost_depth1 is: 0.969 +/- 0.008\n",
      "AUC for Adaboost_depth1 is: 0.859 +/- 0.046\n",
      "execution time is: 22.156100034713745 seconds\n",
      "\n",
      "\n",
      "Accuracy for Adaboost_depth2 is: 0.972 +/- 0.008\n",
      "AUC for Adaboost_depth2 is: 0.877 +/- 0.030\n",
      "execution time is: 31.589881896972656 seconds\n",
      "\n",
      "\n"
     ]
    }
   ],
   "source": [
    "\n",
    "from sklearn.feature_extraction.text import TfidfTransformer\n",
    "\n",
    "transformer = TfidfTransformer()\n",
    "tfidf = transformer.fit_transform(X)\n",
    "\n",
    "run_classifiers(clfs, tfidf.toarray(), np.where(target == 'spam',1,0))\n"
   ]
  },
  {
   "cell_type": "markdown",
   "metadata": {
    "id": "BUd3Ns2XQCu6"
   },
   "source": [
    " On remarque que la moyenne a augmenté par rapport à l'exécution précedente. De plus, l'écart type a bien dimunier pour KNN surtout"
   ]
  },
  {
   "cell_type": "markdown",
   "metadata": {
    "id": "YHXb0v7EiYxt"
   },
   "source": [
    "##### c) Méthode TruncatedSVD"
   ]
  },
  {
   "cell_type": "code",
   "execution_count": null,
   "metadata": {
    "colab": {
     "base_uri": "https://localhost:8080/"
    },
    "id": "hMcnbbpzQCu6",
    "outputId": "16406f16-a79a-4edc-8602-24f118313721"
   },
   "outputs": [
    {
     "name": "stdout",
     "output_type": "stream",
     "text": [
      "Accuracy for NBayes is: 0.899 +/- 0.011\n",
      "AUC for NBayes is: 0.542 +/- 0.045\n",
      "execution time is: 0.08840155601501465 seconds\n",
      "\n",
      "\n",
      "Accuracy for CART is: 0.959 +/- 0.006\n",
      "AUC for CART is: 0.825 +/- 0.046\n",
      "execution time is: 0.5556929111480713 seconds\n",
      "\n",
      "\n",
      "Accuracy for ID3 is: 0.960 +/- 0.006\n",
      "AUC for ID3 is: 0.830 +/- 0.022\n",
      "execution time is: 0.7372350692749023 seconds\n",
      "\n",
      "\n",
      "Accuracy for RF is: 0.971 +/- 0.008\n",
      "AUC for RF is: 0.881 +/- 0.034\n",
      "execution time is: 8.066043138504028 seconds\n",
      "\n",
      "\n",
      "Accuracy for KNN is: 0.966 +/- 0.007\n",
      "AUC for KNN is: 0.848 +/- 0.028\n",
      "execution time is: 0.4924430847167969 seconds\n",
      "\n",
      "\n",
      "Accuracy for Bagging is: 0.902 +/- 0.009\n",
      "AUC for Bagging is: 0.615 +/- 0.033\n",
      "execution time is: 4.106001615524292 seconds\n",
      "\n",
      "\n",
      "Accuracy for Adaboost_depth1 is: 0.954 +/- 0.009\n",
      "AUC for Adaboost_depth1 is: 0.790 +/- 0.030\n",
      "execution time is: 6.085156440734863 seconds\n",
      "\n",
      "\n",
      "Accuracy for Adaboost_depth2 is: 0.961 +/- 0.007\n",
      "AUC for Adaboost_depth2 is: 0.829 +/- 0.028\n",
      "execution time is: 9.213888168334961 seconds\n",
      "\n",
      "\n"
     ]
    }
   ],
   "source": [
    "\n",
    "\n",
    "from sklearn.decomposition import TruncatedSVD\n",
    "\n",
    "svd = TruncatedSVD(n_components=5)\n",
    "truncSvd = svd.fit_transform(X)\n",
    "\n",
    "run_classifiers(clfs, truncSvd, np.where(target == 'spam',1,0))\n"
   ]
  },
  {
   "cell_type": "markdown",
   "metadata": {
    "id": "MCZaIkGqQCu6"
   },
   "source": [
    "On remarque que la moyenne est semblable à l'exécution précedente. De plus, l'écart type a bien dimunier pour tous les algorithmes. Pour Nbayes et KNN, la précision et le recall ont diminué. CART et RF ont toujours une accuracy très proche de 1."
   ]
  },
  {
   "cell_type": "markdown",
   "metadata": {
    "id": "68fhmduYien8"
   },
   "source": [
    "##### d) Pipeline "
   ]
  },
  {
   "cell_type": "code",
   "execution_count": null,
   "metadata": {
    "colab": {
     "base_uri": "https://localhost:8080/"
    },
    "id": "z_TmxbM8QCu6",
    "outputId": "c9b550d2-8258-4799-a1d3-cab5394c3588"
   },
   "outputs": [
    {
     "name": "stdout",
     "output_type": "stream",
     "text": [
      "[0 0 1 ... 0 0 0]\n"
     ]
    }
   ],
   "source": [
    "\n",
    "\n",
    "from sklearn.pipeline import Pipeline\n",
    "\n",
    "\n",
    "\n",
    "\n",
    "pipeline = Pipeline(memory=None,steps=[\n",
    "    (\"vect\",CountVectorizer(max_features=300,stop_words='english')),\n",
    "    ('tft', TfidfTransformer()), \n",
    "    ('clf', DecisionTreeClassifier())] )\n",
    "\n",
    "pipe=pipeline.fit(messages1,np.where(target == 'spam',1,0))\n",
    "prediction = pipe.predict(messages1)\n",
    "\n",
    "print(prediction)"
   ]
  },
  {
   "cell_type": "markdown",
   "metadata": {
    "id": "0VpMawC7ilQC"
   },
   "source": [
    "##### e) Application sur un autre jeu de données :"
   ]
  },
  {
   "cell_type": "code",
   "execution_count": null,
   "metadata": {
    "colab": {
     "base_uri": "https://localhost:8080/",
     "height": 419
    },
    "id": "nyiRBzJOQCu6",
    "outputId": "6db4ef2d-b56d-4dfe-bc31-fef2f3c18164"
   },
   "outputs": [
    {
     "data": {
      "text/html": [
       "<div>\n",
       "<style scoped>\n",
       "    .dataframe tbody tr th:only-of-type {\n",
       "        vertical-align: middle;\n",
       "    }\n",
       "\n",
       "    .dataframe tbody tr th {\n",
       "        vertical-align: top;\n",
       "    }\n",
       "\n",
       "    .dataframe thead th {\n",
       "        text-align: right;\n",
       "    }\n",
       "</style>\n",
       "<table border=\"1\" class=\"dataframe\">\n",
       "  <thead>\n",
       "    <tr style=\"text-align: right;\">\n",
       "      <th></th>\n",
       "      <th>Stars</th>\n",
       "      <th>Text</th>\n",
       "    </tr>\n",
       "  </thead>\n",
       "  <tbody>\n",
       "    <tr>\n",
       "      <th>0</th>\n",
       "      <td>1</td>\n",
       "      <td>Boarded my English Mastiff here over New Year'...</td>\n",
       "    </tr>\n",
       "    <tr>\n",
       "      <th>1</th>\n",
       "      <td>1</td>\n",
       "      <td>Another case of the Emperor's New Clothes.  So...</td>\n",
       "    </tr>\n",
       "    <tr>\n",
       "      <th>2</th>\n",
       "      <td>1</td>\n",
       "      <td>Came on Valentine's Day night having pre-bough...</td>\n",
       "    </tr>\n",
       "    <tr>\n",
       "      <th>3</th>\n",
       "      <td>1</td>\n",
       "      <td>2Nd time eating here today.1st time was great ...</td>\n",
       "    </tr>\n",
       "    <tr>\n",
       "      <th>4</th>\n",
       "      <td>1</td>\n",
       "      <td>Allegiant is a disaster.  Their fares are chea...</td>\n",
       "    </tr>\n",
       "    <tr>\n",
       "      <th>...</th>\n",
       "      <td>...</td>\n",
       "      <td>...</td>\n",
       "    </tr>\n",
       "    <tr>\n",
       "      <th>47366</th>\n",
       "      <td>5</td>\n",
       "      <td>This is our favorite coffee place in Montreal!...</td>\n",
       "    </tr>\n",
       "    <tr>\n",
       "      <th>47367</th>\n",
       "      <td>5</td>\n",
       "      <td>Had to visit the Carlos bakery and went on a s...</td>\n",
       "    </tr>\n",
       "    <tr>\n",
       "      <th>47368</th>\n",
       "      <td>5</td>\n",
       "      <td>Some of the best Tom Yum we've ever had. Also ...</td>\n",
       "    </tr>\n",
       "    <tr>\n",
       "      <th>47369</th>\n",
       "      <td>5</td>\n",
       "      <td>This is the best groomer in the valley, she is...</td>\n",
       "    </tr>\n",
       "    <tr>\n",
       "      <th>47370</th>\n",
       "      <td>5</td>\n",
       "      <td>I agree with the other reviewers: this is a gr...</td>\n",
       "    </tr>\n",
       "  </tbody>\n",
       "</table>\n",
       "<p>47371 rows × 2 columns</p>\n",
       "</div>"
      ],
      "text/plain": [
       "       Stars                                               Text\n",
       "0          1  Boarded my English Mastiff here over New Year'...\n",
       "1          1  Another case of the Emperor's New Clothes.  So...\n",
       "2          1  Came on Valentine's Day night having pre-bough...\n",
       "3          1  2Nd time eating here today.1st time was great ...\n",
       "4          1  Allegiant is a disaster.  Their fares are chea...\n",
       "...      ...                                                ...\n",
       "47366      5  This is our favorite coffee place in Montreal!...\n",
       "47367      5  Had to visit the Carlos bakery and went on a s...\n",
       "47368      5  Some of the best Tom Yum we've ever had. Also ...\n",
       "47369      5  This is the best groomer in the valley, she is...\n",
       "47370      5  I agree with the other reviewers: this is a gr...\n",
       "\n",
       "[47371 rows x 2 columns]"
      ]
     },
     "execution_count": 114,
     "metadata": {
      "tags": []
     },
     "output_type": "execute_result"
    }
   ],
   "source": [
    "\n",
    "\n",
    "new_data = pd.read_csv(\"yelp-text-by-stars.csv\", sep=';', encoding = \"ISO-8859-1\")\n",
    "new_data"
   ]
  },
  {
   "cell_type": "code",
   "execution_count": null,
   "metadata": {
    "colab": {
     "base_uri": "https://localhost:8080/"
    },
    "id": "q2bOyjOAQCu7",
    "outputId": "2295d4fe-71e5-45f4-fa2a-1f2effb31597"
   },
   "outputs": [
    {
     "data": {
      "text/plain": [
       "(47371, 2)"
      ]
     },
     "execution_count": 115,
     "metadata": {
      "tags": []
     },
     "output_type": "execute_result"
    }
   ],
   "source": [
    "new_data.shape"
   ]
  },
  {
   "cell_type": "code",
   "execution_count": null,
   "metadata": {
    "colab": {
     "base_uri": "https://localhost:8080/"
    },
    "id": "G4r79wiKQCu7",
    "outputId": "93bda71c-9559-4712-9c16-6a373df4915b"
   },
   "outputs": [
    {
     "name": "stdout",
     "output_type": "stream",
     "text": [
      "[1 1 1 ... 5 5 5]\n"
     ]
    }
   ],
   "source": [
    "target_star_pred_pip = pipeline.fit(new_data.values[:,1],new_data.values[:,0].astype('int')).predict(new_data.values[:,1])\n",
    "print(target_star_pred_pip)\n"
   ]
  },
  {
   "cell_type": "code",
   "execution_count": null,
   "metadata": {
    "id": "cLztJVoQQCu7"
   },
   "outputs": [],
   "source": [
    "new_data['predictions'] = target_star_pred_pip"
   ]
  },
  {
   "cell_type": "code",
   "execution_count": null,
   "metadata": {
    "colab": {
     "base_uri": "https://localhost:8080/",
     "height": 419
    },
    "id": "rm1lCaqdQCu7",
    "outputId": "2abd3acb-f857-4f15-f32b-72c2e429ebf0",
    "scrolled": true
   },
   "outputs": [
    {
     "data": {
      "text/html": [
       "<div>\n",
       "<style scoped>\n",
       "    .dataframe tbody tr th:only-of-type {\n",
       "        vertical-align: middle;\n",
       "    }\n",
       "\n",
       "    .dataframe tbody tr th {\n",
       "        vertical-align: top;\n",
       "    }\n",
       "\n",
       "    .dataframe thead th {\n",
       "        text-align: right;\n",
       "    }\n",
       "</style>\n",
       "<table border=\"1\" class=\"dataframe\">\n",
       "  <thead>\n",
       "    <tr style=\"text-align: right;\">\n",
       "      <th></th>\n",
       "      <th>Stars</th>\n",
       "      <th>Text</th>\n",
       "      <th>predictions</th>\n",
       "    </tr>\n",
       "  </thead>\n",
       "  <tbody>\n",
       "    <tr>\n",
       "      <th>0</th>\n",
       "      <td>1</td>\n",
       "      <td>Boarded my English Mastiff here over New Year'...</td>\n",
       "      <td>1</td>\n",
       "    </tr>\n",
       "    <tr>\n",
       "      <th>1</th>\n",
       "      <td>1</td>\n",
       "      <td>Another case of the Emperor's New Clothes.  So...</td>\n",
       "      <td>1</td>\n",
       "    </tr>\n",
       "    <tr>\n",
       "      <th>2</th>\n",
       "      <td>1</td>\n",
       "      <td>Came on Valentine's Day night having pre-bough...</td>\n",
       "      <td>1</td>\n",
       "    </tr>\n",
       "    <tr>\n",
       "      <th>3</th>\n",
       "      <td>1</td>\n",
       "      <td>2Nd time eating here today.1st time was great ...</td>\n",
       "      <td>1</td>\n",
       "    </tr>\n",
       "    <tr>\n",
       "      <th>4</th>\n",
       "      <td>1</td>\n",
       "      <td>Allegiant is a disaster.  Their fares are chea...</td>\n",
       "      <td>1</td>\n",
       "    </tr>\n",
       "    <tr>\n",
       "      <th>...</th>\n",
       "      <td>...</td>\n",
       "      <td>...</td>\n",
       "      <td>...</td>\n",
       "    </tr>\n",
       "    <tr>\n",
       "      <th>95</th>\n",
       "      <td>1</td>\n",
       "      <td>I went there on a Sunday to watch football. My...</td>\n",
       "      <td>1</td>\n",
       "    </tr>\n",
       "    <tr>\n",
       "      <th>96</th>\n",
       "      <td>1</td>\n",
       "      <td>We almost didn't go to this place because of t...</td>\n",
       "      <td>1</td>\n",
       "    </tr>\n",
       "    <tr>\n",
       "      <th>97</th>\n",
       "      <td>1</td>\n",
       "      <td>This place is horrible! When I came into the o...</td>\n",
       "      <td>1</td>\n",
       "    </tr>\n",
       "    <tr>\n",
       "      <th>98</th>\n",
       "      <td>1</td>\n",
       "      <td>Got to this dimly-lit shop at 6:30 PM on a Wed...</td>\n",
       "      <td>1</td>\n",
       "    </tr>\n",
       "    <tr>\n",
       "      <th>99</th>\n",
       "      <td>1</td>\n",
       "      <td>If you're a vegetarian do not go here...there ...</td>\n",
       "      <td>1</td>\n",
       "    </tr>\n",
       "  </tbody>\n",
       "</table>\n",
       "<p>100 rows × 3 columns</p>\n",
       "</div>"
      ],
      "text/plain": [
       "    Stars                                               Text  predictions\n",
       "0       1  Boarded my English Mastiff here over New Year'...            1\n",
       "1       1  Another case of the Emperor's New Clothes.  So...            1\n",
       "2       1  Came on Valentine's Day night having pre-bough...            1\n",
       "3       1  2Nd time eating here today.1st time was great ...            1\n",
       "4       1  Allegiant is a disaster.  Their fares are chea...            1\n",
       "..    ...                                                ...          ...\n",
       "95      1  I went there on a Sunday to watch football. My...            1\n",
       "96      1  We almost didn't go to this place because of t...            1\n",
       "97      1  This place is horrible! When I came into the o...            1\n",
       "98      1  Got to this dimly-lit shop at 6:30 PM on a Wed...            1\n",
       "99      1  If you're a vegetarian do not go here...there ...            1\n",
       "\n",
       "[100 rows x 3 columns]"
      ]
     },
     "execution_count": 118,
     "metadata": {
      "tags": []
     },
     "output_type": "execute_result"
    }
   ],
   "source": [
    "new_data.head(100)"
   ]
  }
 ],
 "metadata": {
  "colab": {
   "collapsed_sections": [
    "XPbWnvxdQCu3",
    "KrEkZPEEQCu3",
    "AnMGsqS8QCu4",
    "PRdMC_RqQCu5",
    "J4UwjcDHQCu6",
    "BUd3Ns2XQCu6"
   ],
   "name": "TP_AS_Scoring_Credit.ipynb",
   "provenance": [],
   "toc_visible": true
  },
  "kernelspec": {
   "display_name": "Python 3",
   "language": "python",
   "name": "python3"
  },
  "language_info": {
   "codemirror_mode": {
    "name": "ipython",
    "version": 3
   },
   "file_extension": ".py",
   "mimetype": "text/x-python",
   "name": "python",
   "nbconvert_exporter": "python",
   "pygments_lexer": "ipython3",
   "version": "3.7.4"
  }
 },
 "nbformat": 4,
 "nbformat_minor": 1
}
