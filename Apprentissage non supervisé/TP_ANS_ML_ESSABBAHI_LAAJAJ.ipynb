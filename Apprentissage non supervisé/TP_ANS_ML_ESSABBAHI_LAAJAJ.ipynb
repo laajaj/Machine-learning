{
 "cells": [
  {
   "cell_type": "markdown",
   "metadata": {},
   "source": [
    "## Réaalisé par :\n",
    "## LAAJAJ Youness et ESSABBAHI Abdelmaoula\n",
    "## Master Data Science"
   ]
  },
  {
   "cell_type": "code",
   "execution_count": 3,
   "metadata": {},
   "outputs": [],
   "source": [
    "import numpy as np\n",
    "np.set_printoptions(threshold=None,suppress=True)\n",
    "import pandas as pd\n",
    "import warnings\n",
    "import matplotlib.pyplot as plt\n",
    "warnings.filterwarnings('ignore')"
   ]
  },
  {
   "cell_type": "markdown",
   "metadata": {},
   "source": [
    "## Réduction de dimensions et Visualisation des données"
   ]
  },
  {
   "cell_type": "code",
   "execution_count": 4,
   "metadata": {},
   "outputs": [],
   "source": [
    "data = pd.read_csv('./villes.csv', sep=';')"
   ]
  },
  {
   "cell_type": "code",
   "execution_count": 5,
   "metadata": {},
   "outputs": [
    {
     "data": {
      "text/html": [
       "<div>\n",
       "<style scoped>\n",
       "    .dataframe tbody tr th:only-of-type {\n",
       "        vertical-align: middle;\n",
       "    }\n",
       "\n",
       "    .dataframe tbody tr th {\n",
       "        vertical-align: top;\n",
       "    }\n",
       "\n",
       "    .dataframe thead th {\n",
       "        text-align: right;\n",
       "    }\n",
       "</style>\n",
       "<table border=\"1\" class=\"dataframe\">\n",
       "  <thead>\n",
       "    <tr style=\"text-align: right;\">\n",
       "      <th></th>\n",
       "      <th>ville</th>\n",
       "      <th>janv</th>\n",
       "      <th>fev</th>\n",
       "      <th>mars</th>\n",
       "      <th>avril</th>\n",
       "      <th>mai</th>\n",
       "      <th>juin</th>\n",
       "      <th>juil</th>\n",
       "      <th>aout</th>\n",
       "      <th>sept</th>\n",
       "      <th>oct</th>\n",
       "      <th>nov</th>\n",
       "      <th>dec</th>\n",
       "    </tr>\n",
       "  </thead>\n",
       "  <tbody>\n",
       "    <tr>\n",
       "      <td>0</td>\n",
       "      <td>ajac</td>\n",
       "      <td>7.7</td>\n",
       "      <td>8.7</td>\n",
       "      <td>10.5</td>\n",
       "      <td>12.6</td>\n",
       "      <td>15.9</td>\n",
       "      <td>19.8</td>\n",
       "      <td>22.0</td>\n",
       "      <td>22.2</td>\n",
       "      <td>20.3</td>\n",
       "      <td>16.3</td>\n",
       "      <td>11.8</td>\n",
       "      <td>8.7</td>\n",
       "    </tr>\n",
       "    <tr>\n",
       "      <td>1</td>\n",
       "      <td>ange</td>\n",
       "      <td>4.2</td>\n",
       "      <td>4.9</td>\n",
       "      <td>7.9</td>\n",
       "      <td>10.4</td>\n",
       "      <td>13.6</td>\n",
       "      <td>17.0</td>\n",
       "      <td>18.7</td>\n",
       "      <td>18.4</td>\n",
       "      <td>16.1</td>\n",
       "      <td>11.7</td>\n",
       "      <td>7.6</td>\n",
       "      <td>4.9</td>\n",
       "    </tr>\n",
       "    <tr>\n",
       "      <td>2</td>\n",
       "      <td>ango</td>\n",
       "      <td>4.6</td>\n",
       "      <td>5.4</td>\n",
       "      <td>8.9</td>\n",
       "      <td>11.3</td>\n",
       "      <td>14.5</td>\n",
       "      <td>17.2</td>\n",
       "      <td>19.5</td>\n",
       "      <td>19.4</td>\n",
       "      <td>16.9</td>\n",
       "      <td>12.5</td>\n",
       "      <td>8.1</td>\n",
       "      <td>5.3</td>\n",
       "    </tr>\n",
       "    <tr>\n",
       "      <td>3</td>\n",
       "      <td>besa</td>\n",
       "      <td>1.1</td>\n",
       "      <td>2.2</td>\n",
       "      <td>6.4</td>\n",
       "      <td>9.7</td>\n",
       "      <td>13.6</td>\n",
       "      <td>16.9</td>\n",
       "      <td>18.7</td>\n",
       "      <td>18.3</td>\n",
       "      <td>15.5</td>\n",
       "      <td>10.4</td>\n",
       "      <td>5.7</td>\n",
       "      <td>2.0</td>\n",
       "    </tr>\n",
       "    <tr>\n",
       "      <td>4</td>\n",
       "      <td>biar</td>\n",
       "      <td>7.6</td>\n",
       "      <td>8.0</td>\n",
       "      <td>10.8</td>\n",
       "      <td>12.0</td>\n",
       "      <td>14.7</td>\n",
       "      <td>17.8</td>\n",
       "      <td>19.7</td>\n",
       "      <td>19.9</td>\n",
       "      <td>18.5</td>\n",
       "      <td>14.8</td>\n",
       "      <td>10.9</td>\n",
       "      <td>8.2</td>\n",
       "    </tr>\n",
       "  </tbody>\n",
       "</table>\n",
       "</div>"
      ],
      "text/plain": [
       "  ville  janv  fev  mars  avril   mai  juin  juil  aout  sept   oct   nov  dec\n",
       "0  ajac   7.7  8.7  10.5   12.6  15.9  19.8  22.0  22.2  20.3  16.3  11.8  8.7\n",
       "1  ange   4.2  4.9   7.9   10.4  13.6  17.0  18.7  18.4  16.1  11.7   7.6  4.9\n",
       "2  ango   4.6  5.4   8.9   11.3  14.5  17.2  19.5  19.4  16.9  12.5   8.1  5.3\n",
       "3  besa   1.1  2.2   6.4    9.7  13.6  16.9  18.7  18.3  15.5  10.4   5.7  2.0\n",
       "4  biar   7.6  8.0  10.8   12.0  14.7  17.8  19.7  19.9  18.5  14.8  10.9  8.2"
      ]
     },
     "execution_count": 5,
     "metadata": {},
     "output_type": "execute_result"
    }
   ],
   "source": [
    "data.head()"
   ]
  },
  {
   "cell_type": "code",
   "execution_count": 6,
   "metadata": {},
   "outputs": [],
   "source": [
    "X = data.iloc[:, 1:13].values\n",
    "labels = data.iloc[:, 0].values"
   ]
  },
  {
   "cell_type": "code",
   "execution_count": 8,
   "metadata": {},
   "outputs": [],
   "source": [
    "# Normalisation des données\n",
    "\n",
    "from sklearn.preprocessing import StandardScaler\n",
    "\n",
    "Xnorm = StandardScaler().fit_transform(X)"
   ]
  },
  {
   "cell_type": "code",
   "execution_count": 15,
   "metadata": {},
   "outputs": [
    {
     "name": "stdout",
     "output_type": "stream",
     "text": [
      "[0.27151028 0.28846164 0.3010811  0.30354174 0.28353089 0.27841907\n",
      " 0.27290295 0.28757774 0.30472022 0.3038548  0.29242808 0.2729549 ]\n",
      "[ 0.39933494  0.29907184  0.12943051 -0.11530598 -0.32314291 -0.35846763\n",
      " -0.38879639 -0.3010133  -0.11231622  0.12249226  0.26269461  0.38693688]\n"
     ]
    }
   ],
   "source": [
    "# PCA\n",
    "from sklearn.decomposition import PCA\n",
    "\n",
    "pca = PCA(n_components=2)\n",
    "principalComponents = pca.fit_transform(Xnorm)\n",
    "X_pca = pd.DataFrame(data = principalComponents, columns = ['Axe 1', 'Axe 2'])\n",
    "print(pca.components_[0,:])\n",
    "print(pca.components_[1,:])\n"
   ]
  },
  {
   "cell_type": "markdown",
   "metadata": {},
   "source": [
    "#### Les composantes du premier axe contribuent avec le meme poids et donc c'est un axe de moyenne. Les composantes du deuxième axe sont positifs pour les mois d'hiver et négatifs pour les mois d'été. Cela permet de comprendre la significativité des axes réduits."
   ]
  },
  {
   "cell_type": "code",
   "execution_count": 14,
   "metadata": {},
   "outputs": [
    {
     "data": {
      "text/html": [
       "<div>\n",
       "<style scoped>\n",
       "    .dataframe tbody tr th:only-of-type {\n",
       "        vertical-align: middle;\n",
       "    }\n",
       "\n",
       "    .dataframe tbody tr th {\n",
       "        vertical-align: top;\n",
       "    }\n",
       "\n",
       "    .dataframe thead th {\n",
       "        text-align: right;\n",
       "    }\n",
       "</style>\n",
       "<table border=\"1\" class=\"dataframe\">\n",
       "  <thead>\n",
       "    <tr style=\"text-align: right;\">\n",
       "      <th></th>\n",
       "      <th>Axe 1</th>\n",
       "      <th>Axe 2</th>\n",
       "      <th>ville</th>\n",
       "    </tr>\n",
       "  </thead>\n",
       "  <tbody>\n",
       "    <tr>\n",
       "      <td>0</td>\n",
       "      <td>5.187281</td>\n",
       "      <td>0.759789</td>\n",
       "      <td>ajac</td>\n",
       "    </tr>\n",
       "    <tr>\n",
       "      <td>1</td>\n",
       "      <td>-0.887786</td>\n",
       "      <td>0.769878</td>\n",
       "      <td>ange</td>\n",
       "    </tr>\n",
       "    <tr>\n",
       "      <td>2</td>\n",
       "      <td>0.406077</td>\n",
       "      <td>0.484902</td>\n",
       "      <td>ango</td>\n",
       "    </tr>\n",
       "    <tr>\n",
       "      <td>3</td>\n",
       "      <td>-2.923747</td>\n",
       "      <td>-0.913170</td>\n",
       "      <td>besa</td>\n",
       "    </tr>\n",
       "    <tr>\n",
       "      <td>4</td>\n",
       "      <td>3.117036</td>\n",
       "      <td>2.027500</td>\n",
       "      <td>biar</td>\n",
       "    </tr>\n",
       "  </tbody>\n",
       "</table>\n",
       "</div>"
      ],
      "text/plain": [
       "      Axe 1     Axe 2 ville\n",
       "0  5.187281  0.759789  ajac\n",
       "1 -0.887786  0.769878  ange\n",
       "2  0.406077  0.484902  ango\n",
       "3 -2.923747 -0.913170  besa\n",
       "4  3.117036  2.027500  biar"
      ]
     },
     "execution_count": 14,
     "metadata": {},
     "output_type": "execute_result"
    }
   ],
   "source": [
    "finalDf = pd.concat([X_pca, data[['ville']]], axis = 1)\n",
    "finalDf.head()\n"
   ]
  },
  {
   "cell_type": "code",
   "execution_count": 16,
   "metadata": {},
   "outputs": [
    {
     "name": "stdout",
     "output_type": "stream",
     "text": [
      "[0.87268193 0.11720602]\n",
      "0.9898879529268558\n"
     ]
    }
   ],
   "source": [
    "info=pca.explained_variance_ratio_\n",
    "print(info)\n",
    "\n",
    "sum_info=sum(info)\n",
    "print(sum_info)\n"
   ]
  },
  {
   "cell_type": "markdown",
   "metadata": {},
   "source": [
    "#### 2-a) Donc avec deux axes on peut conserver 98% de l’information représentée dans le nuage initial"
   ]
  },
  {
   "cell_type": "markdown",
   "metadata": {},
   "source": [
    "#### 2-b) Interprétation des deux premiers axes principaux: le premier axe contient 87% d'information ce qui veut dire qu'il est lié linéairement avec plus de variables  et le deuxième contient 11% ( lié avec moins de variable que le premier) et l'ensemble de ces deux axes contient 98% d'information\n",
    "#### Le premier axe contient l'information sur la moyenne de température et le deuxième axe contient la variabilité entre l'été et l'hiver.\n"
   ]
  },
  {
   "cell_type": "code",
   "execution_count": 12,
   "metadata": {},
   "outputs": [
    {
     "data": {
      "image/png": "[encoded data removed]",
      "text/plain": [
       "<Figure size 432x288 with 1 Axes>"
      ]
     },
     "metadata": {
      "needs_background": "light"
     },
     "output_type": "display_data"
    }
   ],
   "source": [
    "plt.scatter(X_pca.iloc[:, 0], X_pca.iloc[:, 1])\n",
    "for label, x, y in zip(labels, X_pca.iloc[:, 0], X_pca.iloc[:, 1]):\n",
    "    \n",
    "    plt.annotate(label, xy=(x, y), xytext=(-0.2, 0.2), textcoords='offset points')\n",
    "    \n",
    "    \n",
    "plt.show()"
   ]
  },
  {
   "cell_type": "markdown",
   "metadata": {},
   "source": [
    "## Données de 'crimes'"
   ]
  },
  {
   "cell_type": "code",
   "execution_count": 18,
   "metadata": {},
   "outputs": [
    {
     "data": {
      "text/html": [
       "<div>\n",
       "<style scoped>\n",
       "    .dataframe tbody tr th:only-of-type {\n",
       "        vertical-align: middle;\n",
       "    }\n",
       "\n",
       "    .dataframe tbody tr th {\n",
       "        vertical-align: top;\n",
       "    }\n",
       "\n",
       "    .dataframe thead th {\n",
       "        text-align: right;\n",
       "    }\n",
       "</style>\n",
       "<table border=\"1\" class=\"dataframe\">\n",
       "  <thead>\n",
       "    <tr style=\"text-align: right;\">\n",
       "      <th></th>\n",
       "      <th>Etat</th>\n",
       "      <th>Meutre</th>\n",
       "      <th>Rapt</th>\n",
       "      <th>Vol</th>\n",
       "      <th>Attaque</th>\n",
       "      <th>Viol</th>\n",
       "      <th>Larcin</th>\n",
       "      <th>Auto_Theft</th>\n",
       "    </tr>\n",
       "  </thead>\n",
       "  <tbody>\n",
       "    <tr>\n",
       "      <td>0</td>\n",
       "      <td>Alabama</td>\n",
       "      <td>14.2</td>\n",
       "      <td>25.2</td>\n",
       "      <td>96.8</td>\n",
       "      <td>278.3</td>\n",
       "      <td>1135.5</td>\n",
       "      <td>1881.9</td>\n",
       "      <td>280.7</td>\n",
       "    </tr>\n",
       "    <tr>\n",
       "      <td>1</td>\n",
       "      <td>Alaska</td>\n",
       "      <td>10.8</td>\n",
       "      <td>51.6</td>\n",
       "      <td>96.8</td>\n",
       "      <td>284.0</td>\n",
       "      <td>1331.7</td>\n",
       "      <td>3369.8</td>\n",
       "      <td>753.3</td>\n",
       "    </tr>\n",
       "    <tr>\n",
       "      <td>2</td>\n",
       "      <td>Arizona</td>\n",
       "      <td>9.5</td>\n",
       "      <td>34.2</td>\n",
       "      <td>138.2</td>\n",
       "      <td>312.3</td>\n",
       "      <td>2346.1</td>\n",
       "      <td>4467.4</td>\n",
       "      <td>439.5</td>\n",
       "    </tr>\n",
       "    <tr>\n",
       "      <td>3</td>\n",
       "      <td>Arkansas</td>\n",
       "      <td>8.8</td>\n",
       "      <td>27.6</td>\n",
       "      <td>83.2</td>\n",
       "      <td>203.4</td>\n",
       "      <td>972.6</td>\n",
       "      <td>1862.1</td>\n",
       "      <td>183.4</td>\n",
       "    </tr>\n",
       "    <tr>\n",
       "      <td>4</td>\n",
       "      <td>California</td>\n",
       "      <td>11.5</td>\n",
       "      <td>49.4</td>\n",
       "      <td>287.0</td>\n",
       "      <td>358.0</td>\n",
       "      <td>2139.4</td>\n",
       "      <td>3499.8</td>\n",
       "      <td>663.5</td>\n",
       "    </tr>\n",
       "  </tbody>\n",
       "</table>\n",
       "</div>"
      ],
      "text/plain": [
       "        Etat   Meutre  Rapt    Vol  Attaque    Viol  Larcin  Auto_Theft\n",
       "0     Alabama    14.2  25.2   96.8    278.3  1135.5  1881.9       280.7\n",
       "1      Alaska    10.8  51.6   96.8    284.0  1331.7  3369.8       753.3\n",
       "2     Arizona     9.5  34.2  138.2    312.3  2346.1  4467.4       439.5\n",
       "3    Arkansas     8.8  27.6   83.2    203.4   972.6  1862.1       183.4\n",
       "4  California    11.5  49.4  287.0    358.0  2139.4  3499.8       663.5"
      ]
     },
     "execution_count": 18,
     "metadata": {},
     "output_type": "execute_result"
    }
   ],
   "source": [
    "data_crime = pd.read_csv('./crimes.csv', sep=';')\n",
    "data_crime.head()\n"
   ]
  },
  {
   "cell_type": "code",
   "execution_count": 24,
   "metadata": {},
   "outputs": [
    {
     "data": {
      "text/html": [
       "<div>\n",
       "<style scoped>\n",
       "    .dataframe tbody tr th:only-of-type {\n",
       "        vertical-align: middle;\n",
       "    }\n",
       "\n",
       "    .dataframe tbody tr th {\n",
       "        vertical-align: top;\n",
       "    }\n",
       "\n",
       "    .dataframe thead th {\n",
       "        text-align: right;\n",
       "    }\n",
       "</style>\n",
       "<table border=\"1\" class=\"dataframe\">\n",
       "  <thead>\n",
       "    <tr style=\"text-align: right;\">\n",
       "      <th></th>\n",
       "      <th>0</th>\n",
       "      <th>1</th>\n",
       "      <th>2</th>\n",
       "      <th>3</th>\n",
       "      <th>Etat</th>\n",
       "    </tr>\n",
       "  </thead>\n",
       "  <tbody>\n",
       "    <tr>\n",
       "      <td>0</td>\n",
       "      <td>-0.050387</td>\n",
       "      <td>-2.117383</td>\n",
       "      <td>0.506738</td>\n",
       "      <td>0.253533</td>\n",
       "      <td>Alabama</td>\n",
       "    </tr>\n",
       "    <tr>\n",
       "      <td>1</td>\n",
       "      <td>2.446100</td>\n",
       "      <td>0.168214</td>\n",
       "      <td>-0.070439</td>\n",
       "      <td>1.172253</td>\n",
       "      <td>Alaska</td>\n",
       "    </tr>\n",
       "    <tr>\n",
       "      <td>2</td>\n",
       "      <td>3.044739</td>\n",
       "      <td>0.853523</td>\n",
       "      <td>-1.769737</td>\n",
       "      <td>-0.117392</td>\n",
       "      <td>Arizona</td>\n",
       "    </tr>\n",
       "    <tr>\n",
       "      <td>3</td>\n",
       "      <td>-1.065115</td>\n",
       "      <td>-1.359100</td>\n",
       "      <td>-0.018524</td>\n",
       "      <td>0.021755</td>\n",
       "      <td>Arkansas</td>\n",
       "    </tr>\n",
       "    <tr>\n",
       "      <td>4</td>\n",
       "      <td>4.327295</td>\n",
       "      <td>0.144641</td>\n",
       "      <td>0.278959</td>\n",
       "      <td>0.025377</td>\n",
       "      <td>California</td>\n",
       "    </tr>\n",
       "  </tbody>\n",
       "</table>\n",
       "</div>"
      ],
      "text/plain": [
       "          0         1         2         3       Etat \n",
       "0 -0.050387 -2.117383  0.506738  0.253533     Alabama\n",
       "1  2.446100  0.168214 -0.070439  1.172253      Alaska\n",
       "2  3.044739  0.853523 -1.769737 -0.117392     Arizona\n",
       "3 -1.065115 -1.359100 -0.018524  0.021755    Arkansas\n",
       "4  4.327295  0.144641  0.278959  0.025377  California"
      ]
     },
     "execution_count": 24,
     "metadata": {},
     "output_type": "execute_result"
    }
   ],
   "source": [
    "X_crime = data_crime.iloc[:, 1:8].values\n",
    "labels_crime = data_crime.iloc[:, 0].values\n",
    "\n",
    "\n",
    "# Standardizing the features\n",
    "X_crime = StandardScaler().fit_transform(X_crime)\n",
    "\n",
    "\n",
    "# PCA\n",
    "pca1 = PCA(n_components=4)\n",
    "principalComponents = pca1.fit_transform(X_crime)\n",
    "X_crime_pca = pd.DataFrame(data = principalComponents)\n",
    "\n",
    "finalDf_crime = pd.concat([X_crime_pca, data_crime[['Etat ']]], axis = 1)\n",
    "\n",
    "\n",
    "\n",
    "info_crime=pca1.explained_variance_ratio_\n",
    "\n",
    "finalDf_crime.head()\n",
    "\n"
   ]
  },
  {
   "cell_type": "code",
   "execution_count": 25,
   "metadata": {},
   "outputs": [
    {
     "name": "stdout",
     "output_type": "stream",
     "text": [
      "[0.58785136 0.17696026 0.10368809 0.04520458]\n",
      "0.913704287620304\n"
     ]
    }
   ],
   "source": [
    "print(info_crime)\n",
    "\n",
    "sum_info_crime=sum(info_crime)\n",
    "\n",
    "print(sum_info_crime)"
   ]
  },
  {
   "cell_type": "code",
   "execution_count": 30,
   "metadata": {},
   "outputs": [
    {
     "name": "stdout",
     "output_type": "stream",
     "text": [
      "participation des coeficients pour l'axe 1 : [0.30027916 0.43175936 0.39687549 0.3966517  0.44015721 0.35735953\n",
      " 0.29517681]\n",
      "participation des coeficients pour l'axe 2 : [-0.62917444 -0.16943512  0.04224698 -0.34352815  0.20334059  0.40231912\n",
      "  0.50242093]\n",
      "participation des coeficients pour l'axe 3 : [ 0.1782453  -0.24419758  0.49586087 -0.06950972 -0.20989509 -0.53923144\n",
      "  0.56838373]\n",
      "participation des coeficients pour l'axe 4 : [-0.23211411  0.06221567 -0.55798926  0.62980445 -0.05755491 -0.23488987\n",
      "  0.41923832]\n"
     ]
    }
   ],
   "source": [
    "print(\"participation des coeficients pour l'axe 1 :\" ,pca1.components_[0,:])\n",
    "print(\"participation des coeficients pour l'axe 2 :\", pca1.components_[1,:])\n",
    "print(\"participation des coeficients pour l'axe 3 :\", pca1.components_[2,:])\n",
    "print(\"participation des coeficients pour l'axe 4 :\", pca1.components_[3,:])"
   ]
  },
  {
   "cell_type": "markdown",
   "metadata": {},
   "source": [
    "#### Donc avec 4 axes on peut conserver 91% de l’information représentée dans le nuage initial"
   ]
  },
  {
   "cell_type": "markdown",
   "metadata": {},
   "source": [
    "## Données 'Startups'"
   ]
  },
  {
   "cell_type": "code",
   "execution_count": 31,
   "metadata": {},
   "outputs": [
    {
     "data": {
      "text/html": [
       "<div>\n",
       "<style scoped>\n",
       "    .dataframe tbody tr th:only-of-type {\n",
       "        vertical-align: middle;\n",
       "    }\n",
       "\n",
       "    .dataframe tbody tr th {\n",
       "        vertical-align: top;\n",
       "    }\n",
       "\n",
       "    .dataframe thead th {\n",
       "        text-align: right;\n",
       "    }\n",
       "</style>\n",
       "<table border=\"1\" class=\"dataframe\">\n",
       "  <thead>\n",
       "    <tr style=\"text-align: right;\">\n",
       "      <th></th>\n",
       "      <th>0</th>\n",
       "      <th>1</th>\n",
       "      <th>Id</th>\n",
       "    </tr>\n",
       "  </thead>\n",
       "  <tbody>\n",
       "    <tr>\n",
       "      <td>0</td>\n",
       "      <td>3.599079</td>\n",
       "      <td>0.061435</td>\n",
       "      <td>1</td>\n",
       "    </tr>\n",
       "    <tr>\n",
       "      <td>1</td>\n",
       "      <td>3.513141</td>\n",
       "      <td>-0.503346</td>\n",
       "      <td>2</td>\n",
       "    </tr>\n",
       "    <tr>\n",
       "      <td>2</td>\n",
       "      <td>2.960900</td>\n",
       "      <td>1.134643</td>\n",
       "      <td>3</td>\n",
       "    </tr>\n",
       "    <tr>\n",
       "      <td>3</td>\n",
       "      <td>2.707530</td>\n",
       "      <td>0.477886</td>\n",
       "      <td>4</td>\n",
       "    </tr>\n",
       "    <tr>\n",
       "      <td>4</td>\n",
       "      <td>2.210169</td>\n",
       "      <td>1.368812</td>\n",
       "      <td>5</td>\n",
       "    </tr>\n",
       "  </tbody>\n",
       "</table>\n",
       "</div>"
      ],
      "text/plain": [
       "          0         1  Id\n",
       "0  3.599079  0.061435   1\n",
       "1  3.513141 -0.503346   2\n",
       "2  2.960900  1.134643   3\n",
       "3  2.707530  0.477886   4\n",
       "4  2.210169  1.368812   5"
      ]
     },
     "execution_count": 31,
     "metadata": {},
     "output_type": "execute_result"
    }
   ],
   "source": [
    "data_startup = pd.read_csv('./50_Startups.csv', sep=';')\n",
    "data_startup\n",
    "\n",
    "\n",
    "X_startup = data_startup.iloc[:, 1:8].values\n",
    "labels_startup= data_startup.iloc[:, 0].values\n",
    "\n",
    "\n",
    "# Standardizing the features\n",
    "X_startup = StandardScaler().fit_transform(X_startup)\n",
    "\n",
    "\n",
    "# PCA\n",
    "\n",
    "pca2 = PCA(n_components=2)\n",
    "principalComponents = pca2.fit_transform(X_startup)\n",
    "X_startup_pca = pd.DataFrame(data = principalComponents)\n",
    "\n",
    "finalDf = pd.concat([X_startup_pca, data_startup[['Id']]], axis = 1)\n",
    "\n",
    "finalDf.head()\n",
    "\n",
    "\n"
   ]
  },
  {
   "cell_type": "code",
   "execution_count": 32,
   "metadata": {},
   "outputs": [
    {
     "name": "stdout",
     "output_type": "stream",
     "text": [
      "[0.66804393 0.25484695]\n",
      "0.9228908746506942\n"
     ]
    }
   ],
   "source": [
    "info_startup=pca2.explained_variance_ratio_\n",
    "\n",
    "\n",
    "print(info_startup)\n",
    "\n",
    "sum_info_startup=sum(info_startup)\n",
    "\n",
    "print(sum_info_startup)\n",
    "\n"
   ]
  },
  {
   "cell_type": "code",
   "execution_count": 34,
   "metadata": {},
   "outputs": [
    {
     "data": {
      "text/html": [
       "<div>\n",
       "<style scoped>\n",
       "    .dataframe tbody tr th:only-of-type {\n",
       "        vertical-align: middle;\n",
       "    }\n",
       "\n",
       "    .dataframe tbody tr th {\n",
       "        vertical-align: top;\n",
       "    }\n",
       "\n",
       "    .dataframe thead th {\n",
       "        text-align: right;\n",
       "    }\n",
       "</style>\n",
       "<table border=\"1\" class=\"dataframe\">\n",
       "  <thead>\n",
       "    <tr style=\"text-align: right;\">\n",
       "      <th></th>\n",
       "      <th>Id</th>\n",
       "      <th>Depenses R&amp;D</th>\n",
       "      <th>Depenses Administration</th>\n",
       "      <th>Depenses Marketing Spend</th>\n",
       "      <th>Benefice</th>\n",
       "    </tr>\n",
       "  </thead>\n",
       "  <tbody>\n",
       "    <tr>\n",
       "      <td>0</td>\n",
       "      <td>1</td>\n",
       "      <td>165349.20</td>\n",
       "      <td>136897.80</td>\n",
       "      <td>471784.10</td>\n",
       "      <td>192261.83</td>\n",
       "    </tr>\n",
       "    <tr>\n",
       "      <td>1</td>\n",
       "      <td>2</td>\n",
       "      <td>162597.70</td>\n",
       "      <td>151377.59</td>\n",
       "      <td>443898.53</td>\n",
       "      <td>191792.06</td>\n",
       "    </tr>\n",
       "    <tr>\n",
       "      <td>2</td>\n",
       "      <td>3</td>\n",
       "      <td>153441.51</td>\n",
       "      <td>101145.55</td>\n",
       "      <td>407934.54</td>\n",
       "      <td>191050.39</td>\n",
       "    </tr>\n",
       "    <tr>\n",
       "      <td>3</td>\n",
       "      <td>4</td>\n",
       "      <td>144372.41</td>\n",
       "      <td>118671.85</td>\n",
       "      <td>383199.62</td>\n",
       "      <td>182901.99</td>\n",
       "    </tr>\n",
       "    <tr>\n",
       "      <td>4</td>\n",
       "      <td>5</td>\n",
       "      <td>142107.34</td>\n",
       "      <td>91391.77</td>\n",
       "      <td>366168.42</td>\n",
       "      <td>166187.94</td>\n",
       "    </tr>\n",
       "  </tbody>\n",
       "</table>\n",
       "</div>"
      ],
      "text/plain": [
       "   Id  Depenses R&D  Depenses Administration  Depenses Marketing Spend  \\\n",
       "0   1     165349.20                136897.80                 471784.10   \n",
       "1   2     162597.70                151377.59                 443898.53   \n",
       "2   3     153441.51                101145.55                 407934.54   \n",
       "3   4     144372.41                118671.85                 383199.62   \n",
       "4   5     142107.34                 91391.77                 366168.42   \n",
       "\n",
       "    Benefice  \n",
       "0  192261.83  \n",
       "1  191792.06  \n",
       "2  191050.39  \n",
       "3  182901.99  \n",
       "4  166187.94  "
      ]
     },
     "execution_count": 34,
     "metadata": {},
     "output_type": "execute_result"
    }
   ],
   "source": [
    "data_startup.head()"
   ]
  },
  {
   "cell_type": "code",
   "execution_count": 33,
   "metadata": {},
   "outputs": [
    {
     "name": "stdout",
     "output_type": "stream",
     "text": [
      "participation des coeficients pour l'axe 1 : [0.59347855 0.14737886 0.52064694 0.59580992]\n",
      "participation des coeficients pour l'axe 2 : [-0.04048087 -0.95051314  0.30797098  0.00632069]\n"
     ]
    }
   ],
   "source": [
    "print(\"participation des coeficients pour l'axe 1 :\" ,pca2.components_[0,:])\n",
    "print(\"participation des coeficients pour l'axe 2 :\", pca2.components_[1,:])"
   ]
  },
  {
   "cell_type": "markdown",
   "metadata": {},
   "source": [
    "#### Donc avec deux axes on peut conserver 92% de l’information représentée dans le nuage initial. Le premier axe a des participations un peu près égales des variables  'R&D','Depenses Marketing' et 'Benefice' et plus grande que la participation de 'Dépenses Administration'. Le deuxième axe est constitué par une participation dominante négative de 'Dépenses Administration' et une participation positive de 'Depenses Marketing', ce qui va faire une distinction entre les entreprises selon le type des dépenses. "
   ]
  },
  {
   "cell_type": "code",
   "execution_count": 18,
   "metadata": {},
   "outputs": [
    {
     "data": {
      "image/png": "[encoded data removed]",
      "text/plain": [
       "<Figure size 432x288 with 1 Axes>"
      ]
     },
     "metadata": {
      "needs_background": "light"
     },
     "output_type": "display_data"
    }
   ],
   "source": [
    "plt.scatter(X_startup_pca.iloc[:, 0], X_startup_pca.iloc[:, 1])\n",
    "for label, x, y in zip(labels_startup, X_startup_pca.iloc[:, 0], X_startup_pca.iloc[:, 1]):\n",
    "    \n",
    "    plt.annotate(label, xy=(x, y), xytext=(-0.2, 0.2), textcoords='offset points')\n",
    "    \n",
    "    \n",
    "plt.show()"
   ]
  },
  {
   "cell_type": "markdown",
   "metadata": {},
   "source": [
    "\n",
    "# Partie 2 : Clustering\n"
   ]
  },
  {
   "cell_type": "code",
   "execution_count": 36,
   "metadata": {},
   "outputs": [
    {
     "name": "stdout",
     "output_type": "stream",
     "text": [
      "[1 2 2 0 1 1 2 2 0 0 2 0 2 2 1 1 0 2 1 1 2 2 1 0 2 2 0 0 1 1 2 2]\n"
     ]
    }
   ],
   "source": [
    "from sklearn.cluster import KMeans\n",
    "\n",
    "Kmean = KMeans(n_clusters=3,random_state=0)\n",
    "\n",
    "Kmean.fit(X_pca)\n",
    "\n",
    "clustering = Kmean.labels_\n",
    "print(clustering)"
   ]
  },
  {
   "cell_type": "code",
   "execution_count": 37,
   "metadata": {
    "scrolled": true
   },
   "outputs": [
    {
     "data": {
      "image/png": "[encoded data removed]",
      "text/plain": [
       "<Figure size 432x288 with 1 Axes>"
      ]
     },
     "metadata": {
      "needs_background": "light"
     },
     "output_type": "display_data"
    }
   ],
   "source": [
    "colors = ['red','yellow','blue','pink']\n",
    "\n",
    "import matplotlib \n",
    "plt.scatter(X_pca.iloc[:, 0], X_pca.iloc[:, 1], c= clustering, cmap=matplotlib.colors.ListedColormap(colors))\n",
    "for label, x, y in zip(labels, X_pca.iloc[:, 0], X_pca.iloc[:, 1]):\n",
    "    plt.annotate(label, xy=(x, y), xytext=(-0.2, 0.2), textcoords='offset points')\n",
    "plt.show()"
   ]
  },
  {
   "cell_type": "markdown",
   "metadata": {},
   "source": [
    "#### Pour la méthode Average"
   ]
  },
  {
   "cell_type": "code",
   "execution_count": 43,
   "metadata": {},
   "outputs": [
    {
     "name": "stdout",
     "output_type": "stream",
     "text": [
      "[1 2 2 0 1 1 0 2 2 0 2 0 0 2 1 1 0 2 1 1 0 2 1 0 2 0 0 0 1 1 2 2]\n"
     ]
    }
   ],
   "source": [
    "from sklearn.cluster import AgglomerativeClustering\n",
    "\n",
    "Agglom_ward = AgglomerativeClustering(n_clusters=3, linkage='ward')\n",
    "\n",
    "Agglom_ward.fit(X_pca)\n",
    "\n",
    "\n",
    "clustering_Agglom_ward = Agglom_ward.labels_\n",
    "print(clustering_Agglom_ward)"
   ]
  },
  {
   "cell_type": "code",
   "execution_count": 39,
   "metadata": {
    "scrolled": true
   },
   "outputs": [
    {
     "data": {
      "image/png": "[encoded data removed]",
      "text/plain": [
       "<Figure size 432x288 with 1 Axes>"
      ]
     },
     "metadata": {
      "needs_background": "light"
     },
     "output_type": "display_data"
    }
   ],
   "source": [
    "colors = ['red','yellow','blue','pink']\n",
    "\n",
    "plt.scatter(X_pca.iloc[:, 0], X_pca.iloc[:, 1], c= clustering_Agglom_ward, cmap=matplotlib.colors.ListedColormap(colors))\n",
    "for label, x, y in zip(labels, X_pca.iloc[:, 0], X_pca.iloc[:, 1]):\n",
    "    plt.annotate(label, xy=(x, y), xytext=(-0.2, 0.2), textcoords='offset points')\n",
    "plt.show()"
   ]
  },
  {
   "cell_type": "markdown",
   "metadata": {},
   "source": [
    "#### Pour la méthode Average"
   ]
  },
  {
   "cell_type": "code",
   "execution_count": 44,
   "metadata": {},
   "outputs": [
    {
     "name": "stdout",
     "output_type": "stream",
     "text": [
      "[0 1 1 1 0 0 2 1 1 1 1 1 1 1 0 0 1 1 0 0 1 1 0 1 1 1 1 1 0 0 1 1]\n"
     ]
    }
   ],
   "source": [
    "Agglom_average = AgglomerativeClustering(n_clusters=3, linkage='average')\n",
    "\n",
    "Agglom_average.fit(X_pca)\n",
    "\n",
    "\n",
    "clustering_Agglom_average = Agglom_average.labels_\n",
    "print(clustering_Agglom_average)"
   ]
  },
  {
   "cell_type": "code",
   "execution_count": 24,
   "metadata": {},
   "outputs": [
    {
     "data": {
      "image/png": "[encoded data removed]",
      "text/plain": [
       "<Figure size 432x288 with 1 Axes>"
      ]
     },
     "metadata": {
      "needs_background": "light"
     },
     "output_type": "display_data"
    }
   ],
   "source": [
    "colors = ['red','yellow','blue','pink']\n",
    " \n",
    "plt.scatter(X_pca.iloc[:, 0], X_pca.iloc[:, 1], c= clustering_Agglom_average, cmap=matplotlib.colors.ListedColormap(colors))\n",
    "for label, x, y in zip(labels, X_pca.iloc[:, 0], X_pca.iloc[:, 1]):\n",
    "    plt.annotate(label, xy=(x, y), xytext=(-0.2, 0.2), textcoords='offset points')\n",
    "plt.show()"
   ]
  },
  {
   "cell_type": "markdown",
   "metadata": {},
   "source": [
    "#### Le meilleur algorithme de clustering pour 3 clusters est:   AgglomerativeClustering avec la méthode Average, puisq'il permet de bien répartir les données sur les 3 classes."
   ]
  },
  {
   "cell_type": "markdown",
   "metadata": {},
   "source": [
    "### La meilleure partition (nombre de clusters) pour la méthode KMeans"
   ]
  },
  {
   "cell_type": "code",
   "execution_count": 41,
   "metadata": {},
   "outputs": [
    {
     "name": "stdout",
     "output_type": "stream",
     "text": [
      "0.6181156437258196\n",
      "\n",
      "0.409120008322892\n",
      "\n",
      "0.3494043250123232\n",
      "\n",
      "0.32075396348111074\n",
      "\n"
     ]
    }
   ],
   "source": [
    "from sklearn import metrics\n",
    "\n",
    "for i in np.arange(2, 6):\n",
    "    clustering = KMeans(n_clusters=i,random_state=0).fit_predict(X)\n",
    "    print(metrics.silhouette_score(X, clustering,metric='euclidean'))\n",
    "    print()"
   ]
  },
  {
   "cell_type": "markdown",
   "metadata": {},
   "source": [
    "#### Donc on peut dire qu'une partion de 2 Cluster donne une meilleure résultat (0,62 )"
   ]
  },
  {
   "cell_type": "markdown",
   "metadata": {},
   "source": [
    "## Le meilleur algorithme à utiliser pour obtenir 3 clusters"
   ]
  },
  {
   "cell_type": "markdown",
   "metadata": {},
   "source": [
    "#### La métrique intra-class"
   ]
  },
  {
   "cell_type": "code",
   "execution_count": 67,
   "metadata": {},
   "outputs": [
    {
     "name": "stdout",
     "output_type": "stream",
     "text": [
      "la métrique silhouette pour Kmeans avec 3 clusters est : 0.409120008322892\n",
      "la métrique silhouette pour AgglomerativeClustering ward avec 3 clusters est : 0.40631332038912493\n",
      "la métrique silhouette pour AgglomerativeClustering average avec 3 clusters est : 0.4917281366704155\n"
     ]
    }
   ],
   "source": [
    "clustering_kmean = KMeans(n_clusters=3,random_state=0).fit_predict(X)\n",
    "Agglom_ward = AgglomerativeClustering(n_clusters=3, linkage='ward').fit_predict(X)\n",
    "Agglom_average = AgglomerativeClustering(n_clusters=3, linkage='average').fit_predict(X)\n",
    "\n",
    "print(\"la métrique silhouette pour Kmeans avec 3 clusters est :\", metrics.silhouette_score(X, clustering_kmean,metric='euclidean'))\n",
    "print(\"la métrique silhouette pour AgglomerativeClustering ward avec 3 clusters est :\", metrics.silhouette_score(X, Agglom_ward,metric='euclidean'))\n",
    "print(\"la métrique silhouette pour AgglomerativeClustering average avec 3 clusters est :\", metrics.silhouette_score(X, Agglom_average,metric='euclidean'))\n"
   ]
  },
  {
   "cell_type": "markdown",
   "metadata": {},
   "source": [
    "#### La métrique inter-class"
   ]
  },
  {
   "cell_type": "code",
   "execution_count": 77,
   "metadata": {},
   "outputs": [
    {
     "name": "stdout",
     "output_type": "stream",
     "text": [
      "la métrique interclass pour Kmeans avec 3 clusters est : 61.692922011236874\n",
      "la métrique interclass pour AgglomerativeClustering ward avec 3 clusters est : 58.392970444842156\n",
      "la métrique interclass pour AgglomerativeClustering average avec 3 clusters est : 47.788807216511756\n"
     ]
    }
   ],
   "source": [
    "\n",
    "clustering_kmean = KMeans(n_clusters=3,random_state=0).fit(X)\n",
    "Agglom_ward = AgglomerativeClustering(n_clusters=3, linkage='ward').fit(X)\n",
    "Agglom_average = AgglomerativeClustering(n_clusters=3, linkage='average').fit(X)\n",
    "\n",
    "print(\"la métrique interclass pour Kmeans avec 3 clusters est :\",metrics.calinski_harabasz_score(X, clustering_kmean.labels_))\n",
    "print(\"la métrique interclass pour AgglomerativeClustering ward avec 3 clusters est :\",metrics.calinski_harabasz_score(X, Agglom_ward.labels_))\n",
    "print(\"la métrique interclass pour AgglomerativeClustering average avec 3 clusters est :\", metrics.calinski_harabasz_score(X, Agglom_average.labels_))\n"
   ]
  },
  {
   "cell_type": "markdown",
   "metadata": {},
   "source": [
    "#### Le meilleur algorithme pour avoir 3 clusters est AgglomerativeClustering avec la méthode average, puisqu'il donne la métrique intra-class (distance entre les différents clusters) la plus grande et la métrique inter-class ((distance entre les données d'un meme cluster) la plus petite. "
   ]
  }
 ],
 "metadata": {
  "kernelspec": {
   "display_name": "Python 3",
   "language": "python",
   "name": "python3"
  },
  "language_info": {
   "codemirror_mode": {
    "name": "ipython",
    "version": 3
   },
   "file_extension": ".py",
   "mimetype": "text/x-python",
   "name": "python",
   "nbconvert_exporter": "python",
   "pygments_lexer": "ipython3",
   "version": "3.7.4"
  }
 },
 "nbformat": 4,
 "nbformat_minor": 4
}
